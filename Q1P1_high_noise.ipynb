{
  "cells": [
    {
      "cell_type": "code",
      "execution_count": null,
      "metadata": {
        "colab": {
          "base_uri": "https://localhost:8080/",
          "height": 34
        },
        "id": "9NovTYG2qlBR",
        "outputId": "70f0f483-eda9-4ea0-aa4d-1c1cb4164ed4"
      },
      "outputs": [
        {
          "data": {
            "application/vnd.google.colaboratory.intrinsic+json": {
              "type": "string"
            },
            "text/plain": [
              "'/content'"
            ]
          },
          "execution_count": 30,
          "metadata": {},
          "output_type": "execute_result"
        }
      ],
      "source": [
        "%pwd"
      ]
    },
    {
      "cell_type": "code",
      "execution_count": null,
      "metadata": {
        "colab": {
          "base_uri": "https://localhost:8080/"
        },
        "id": "gtT0i-5BpRtd",
        "outputId": "17531490-a0f2-44e6-c90b-24c8874ebeb4"
      },
      "outputs": [
        {
          "name": "stdout",
          "output_type": "stream",
          "text": [
            "\u001b[2K     \u001b[90m━━━━━━━━━━━━━━━━━━━━━━━━━━━━━━━━━━━━━━━━\u001b[0m \u001b[32m1.6/1.6 MB\u001b[0m \u001b[31m7.1 MB/s\u001b[0m eta \u001b[36m0:00:00\u001b[0m\n",
            "\u001b[?25hCloning into 'aml-public'...\n",
            "remote: Enumerating objects: 64, done.\u001b[K\n",
            "remote: Counting objects: 100% (21/21), done.\u001b[K\n",
            "remote: Compressing objects: 100% (18/18), done.\u001b[K\n",
            "remote: Total 64 (delta 8), reused 14 (delta 3), pack-reused 43\u001b[K\n",
            "Receiving objects: 100% (64/64), 4.04 MiB | 8.73 MiB/s, done.\n",
            "Resolving deltas: 100% (33/33), done.\n",
            "/content/aml-public\n"
          ]
        }
      ],
      "source": [
        "!pip install import_ipynb --quiet\n",
        "!git clone https://github.com/gmshroff/aml-public.git\n",
        "%cd aml-public"
      ]
    },
    {
      "cell_type": "code",
      "execution_count": null,
      "metadata": {
        "colab": {
          "base_uri": "https://localhost:8080/",
          "height": 34
        },
        "id": "e9JCBobmrZDq",
        "outputId": "44d13918-2920-4484-dc12-b1160b3509f8"
      },
      "outputs": [
        {
          "data": {
            "application/vnd.google.colaboratory.intrinsic+json": {
              "type": "string"
            },
            "text/plain": [
              "'/content/aml-public'"
            ]
          },
          "execution_count": 32,
          "metadata": {},
          "output_type": "execute_result"
        }
      ],
      "source": [
        "%pwd"
      ]
    },
    {
      "cell_type": "markdown",
      "metadata": {
        "id": "71LJ9dfAriwg"
      },
      "source": [
        "### Imports"
      ]
    },
    {
      "cell_type": "code",
      "execution_count": 1,
      "metadata": {
        "id": "d6oBQLNVf83l"
      },
      "outputs": [],
      "source": [
        "import requests\n",
        "import pandas as pd\n",
        "import torch\n",
        "import torch\n",
        "import random\n",
        "import math, time, os\n",
        "import pandas as pd\n",
        "from matplotlib import pyplot as plt\n",
        "from pyarrow.parquet import ParquetFile\n",
        "import pyarrow as pa\n",
        "import numpy as np\n",
        "import numpy as np\n",
        "import torch\n",
        "from torch import nn\n",
        "from torch import optim\n",
        "from IPython import display\n",
        "import psutil, gc\n",
        "# utils.hide_toggle('Imports 2')\n",
        "from torch.utils.data import Dataset\n",
        "import sklearn.datasets as skds\n",
        "from sklearn.model_selection import train_test_split\n",
        "from torch.utils.data import DataLoader\n",
        "import math\n",
        "from numpy import sin, pi\n",
        "from matplotlib import pyplot as plt\n",
        "from torchvision.datasets import MNIST\n",
        "import pathlib\n",
        "from PIL import Image\n",
        "from PIL.ImageOps import invert\n",
        "from IPython import display\n",
        "from time import sleep\n",
        "import pickle\n",
        "from matplotlib import pyplot as plt"
      ]
    },
    {
      "cell_type": "code",
      "execution_count": 2,
      "metadata": {
        "id": "VBZXrspdrmwv"
      },
      "outputs": [],
      "source": [
        "def hide_toggle(x):\n",
        "    return\n",
        "class MyDS(Dataset):\n",
        "    def __init__(self, X,y,task='classification'):\n",
        "        self.samples = torch.Tensor(X)\n",
        "        if task=='classification': self.labels = torch.LongTensor(y)\n",
        "        elif task=='regression': self.labels = torch.Tensor(y)\n",
        "\n",
        "    def __len__(self):\n",
        "        return len(self.samples)\n",
        "\n",
        "    def __getitem__(self, idx):\n",
        "        return (self.samples[idx],self.labels[idx])\n",
        "#hide_toggle('Class MyDS')\n",
        "\n",
        "def euclideanDataset(n_samples=1000,n_classes=2,class_sep=2.0,n_features=5,batch_size=1,\n",
        "                     n_clusters_per_class=1):\n",
        "    X,y = skds.make_classification(n_samples=n_samples,n_classes=n_classes,\n",
        "                                   class_sep=class_sep,n_features=n_features,\n",
        "                                 n_informative=n_features,n_redundant=0,\n",
        "                                 n_repeated=0,n_clusters_per_class=n_clusters_per_class)\n",
        "    X_train,X_test,y_train,y_test = train_test_split(X,y)\n",
        "    ds = MyDS(X_train,y_train)\n",
        "    ds_hold = MyDS(X_test,y_test)\n",
        "    dsloader = torch.utils.data.DataLoader(dataset=ds,batch_size=batch_size,shuffle=True)\n",
        "    return ds,ds_hold,dsloader\n",
        "#hide_toggle('Function euclideanDataset')"
      ]
    },
    {
      "cell_type": "code",
      "execution_count": 3,
      "metadata": {
        "id": "FPzcc8a3r6UU"
      },
      "outputs": [],
      "source": [
        "import psutil\n",
        "def get_memory_usage():\n",
        "    mem = psutil.virtual_memory()\n",
        "    return f'{mem.used / 1024 ** 3} of {mem.total / 1024 ** 3}; {mem.available / 1024 ** 3} available'"
      ]
    },
    {
      "cell_type": "code",
      "execution_count": 4,
      "metadata": {
        "id": "dsqjeZ_2r7fT"
      },
      "outputs": [],
      "source": [
        "def accuracy(Net,X_test,y_test,verbose=True):\n",
        "    Net.eval()\n",
        "    m = X_test.shape[0]\n",
        "    y_pred = Net(X_test)\n",
        "    predicted = torch.max(y_pred, 1)[1]\n",
        "    correct = (predicted == y_test).float().sum().item()\n",
        "    if verbose: print(correct,m)\n",
        "    accuracy = correct/m\n",
        "    Net.train()\n",
        "    return accuracy\n",
        "def accuracy_variable(Net,data):\n",
        "    step=0\n",
        "    acc=0\n",
        "    for (X,y) in data:\n",
        "            y_pred = Net(X)\n",
        "            step+=1\n",
        "            acc+=accuracy(Net,X,y,verbose=False)\n",
        "    a = acc/step\n",
        "    return a\n",
        "def TrainVals(Net,X_vals,y_vals,epochs=20,lr=5e-2,Loss=nn.NLLLoss(),verbose=False,device='cpu',batch_size=32):\n",
        "    #optimizer = optim.Adam(Net.parameters(),lr=lr)\n",
        "    losses = []\n",
        "    accs = []\n",
        "    Net.to(device)\n",
        "    N=X_vals.shape[0]\n",
        "    n_batches=int(N/batch_size)\n",
        "    for e in range(epochs):\n",
        "        step=0\n",
        "        tot_loss=0.0\n",
        "        start_time = time.time()\n",
        "        acc=0.0\n",
        "        for idx in range(0,N,n_batches):\n",
        "            if idx+32>1000: start,end=idx,N\n",
        "            else: start,end=idx,idx+batch_size\n",
        "            X,y=torch.tensor(X_vals[start:end],dtype=torch.float32),torch.tensor(y_vals[start:end],dtype=torch.int64)\n",
        "            X=X.to(device)\n",
        "            y=y.to(device)\n",
        "            y_pred = Net(X)\n",
        "            loss = Loss(y_pred,y)\n",
        "            Net.optimizer.zero_grad()\n",
        "            loss.backward()\n",
        "            Net.optimizer.step()\n",
        "            step+=1\n",
        "            tot_loss+=loss\n",
        "            if verbose: acc+=accuracy(Net,X,y,verbose=False)\n",
        "        end_time = time.time()\n",
        "        t = end_time-start_time\n",
        "        l = tot_loss.item()/step\n",
        "        if verbose:\n",
        "            a = acc/step\n",
        "            accs += [a]\n",
        "        losses += [l]\n",
        "        if verbose:\n",
        "            print('Epoch  % 2d Loss: %2.5e Accuracy: %2.5f Epoch Time: %2.5f' %(e,l,a,t))\n",
        "            print(get_memory_usage())\n",
        "            gc.collect()\n",
        "            display.clear_output(wait=True)\n",
        "    return Net,losses,accs\n",
        "# utils.hide_toggle('Function Train')"
      ]
    },
    {
      "cell_type": "code",
      "execution_count": 5,
      "metadata": {
        "id": "KXw-qNfMsAdy"
      },
      "outputs": [],
      "source": [
        "class MLP(nn.Module):\n",
        "    def __init__(self,dims=[5,3,2],task='classification',lr=1e-3,weight_decay=0):\n",
        "        super(MLP,self).__init__()\n",
        "        self.dims=dims\n",
        "        self.n = len(self.dims)-1\n",
        "        self.task=task\n",
        "        self.layers=nn.ModuleList()\n",
        "        for i in range(self.n-1):\n",
        "            self.layers.append(nn.Linear(dims[i],dims[i+1]))\n",
        "            self.layers.append(nn.ReLU())\n",
        "        if task=='classification':\n",
        "            self.layers.append(nn.Linear(dims[i+1],dims[i+2]))\n",
        "            self.layers.append(nn.LogSoftmax(dim=1))\n",
        "        elif task=='regression':\n",
        "            self.layers.append(nn.Linear(dims[i+1],dims[i+2]))\n",
        "            self.layers.append(nn.Linear(dims[i+2],1))\n",
        "        else: self.layers.append(nn.Linear(dims[i+1],dims[i+2]))\n",
        "        self.optimizer = optim.Adam(self.parameters(),lr=lr,weight_decay=weight_decay)\n",
        "    def forward(self,x):\n",
        "        for l in self.layers:\n",
        "            x = l(x)\n",
        "        return(x)\n",
        "# utils.hide_toggle('Class MLP')"
      ]
    },
    {
      "cell_type": "code",
      "execution_count": 6,
      "metadata": {
        "id": "t6SpbeB_sFA9"
      },
      "outputs": [],
      "source": [
        "class SimpleRNN(nn.Module):\n",
        "    def __init__(self, input_size, hidden_size, output_size,lr):\n",
        "        # This just calls the base class constructor\n",
        "        super().__init__()\n",
        "        # Neural network layers assigned as attributes of a Module subclass\n",
        "        # have their parameters registered for training automatically.\n",
        "        self.input_size=input_size\n",
        "        self.rnn = torch.nn.RNN(input_size, hidden_size, nonlinearity='relu', batch_first=True)\n",
        "        self.linear = torch.nn.Linear(hidden_size, output_size)\n",
        "        self.logsoft = nn.LogSoftmax(dim=-1)\n",
        "        self.optimizer = optim.Adam(self.parameters(),lr=lr)\n",
        "    def forward(self, x):\n",
        "        # The RNN also returns its hidden state but we don't use it.\n",
        "        # While the RNN can also take a hidden state as input, the RNN\n",
        "        # gets passed a hidden state initialized with zeros by default.\n",
        "        if self.input_size==1: x=x.unsqueeze(-1)\n",
        "        h = self.rnn(x)[0]\n",
        "        x = self.linear(h)\n",
        "        x = self.logsoft(x)\n",
        "        x=x[:,-1,:]\n",
        "        return x"
      ]
    },
    {
      "cell_type": "code",
      "execution_count": 7,
      "metadata": {
        "id": "j74qp2ahtos4"
      },
      "outputs": [],
      "source": [
        "def Train(Net,data,epochs=20,lr=5e-2,Loss=nn.NLLLoss(),verbose=False,device='cpu',\n",
        "          val_ds=None,plot_accs=False,plot_losses=False):\n",
        "    #optimizer = optim.Adam(Net.parameters(),lr=lr)\n",
        "    losses = []\n",
        "    val_losses=[]\n",
        "    accs = []\n",
        "    val_accL=[]\n",
        "    Net.to(device)\n",
        "    for e in range(epochs):\n",
        "        step=0\n",
        "        tot_loss=0.0\n",
        "        start_time = time.time()\n",
        "        acc=0.0\n",
        "        for (X,y) in data:\n",
        "            X=X.to(device)\n",
        "            y=y.to(device)\n",
        "            y_pred = Net(X)\n",
        "            loss = Loss(y_pred,y)\n",
        "            Net.optimizer.zero_grad()\n",
        "            loss.backward()\n",
        "            Net.optimizer.step()\n",
        "            step+=1\n",
        "            tot_loss+=loss\n",
        "            if verbose: acc+=accuracy(Net,X,y,verbose=False)\n",
        "        end_time = time.time()\n",
        "        t = end_time-start_time\n",
        "        l = tot_loss.item()/step\n",
        "        if verbose:\n",
        "            a = acc/step\n",
        "            accs += [a]\n",
        "        losses += [l]\n",
        "        if verbose:\n",
        "            display.clear_output(wait=True)\n",
        "            print('Epoch  % 2d Loss: %2.5e Accuracy: %2.5f Epoch Time: %2.5f' %(e,l,a,t))\n",
        "        if plot_accs and val_ds is not None:\n",
        "            val_accL+=[accuracy(Net,val_ds.samples,val_ds.labels,verbose=False)]\n",
        "            plt.plot(np.array(val_accL),color='red')\n",
        "            plt.plot(np.array(accs),color='blue')\n",
        "            plt.show()\n",
        "        if plot_losses and val_ds is not None:\n",
        "            val_losses+=[Loss(Net(torch.tensor(val_ds.samples)),torch.tensor(val_ds.labels)).detach().numpy()]\n",
        "            plt.plot(val_losses,color='red')\n",
        "            plt.plot(losses,color='blue')\n",
        "            plt.show()\n",
        "    return Net,losses,accs"
      ]
    },
    {
      "cell_type": "markdown",
      "metadata": {
        "id": "3vbGI_hQrnSm"
      },
      "source": [
        "### Data imports and reads"
      ]
    },
    {
      "cell_type": "code",
      "execution_count": 16,
      "metadata": {
        "id": "TFLwudEitDmr"
      },
      "outputs": [],
      "source": [
        "df = pd.read_csv('df_synA_test_hard_shuffled_sample.csv',on_bad_lines='skip')\n",
        "df = df.dropna()"
      ]
    },
    {
      "cell_type": "code",
      "execution_count": 17,
      "metadata": {
        "colab": {
          "base_uri": "https://localhost:8080/"
        },
        "id": "1R6b3pCeg_7o",
        "outputId": "338af5a4-4334-4533-8687-d4e2e38a9ffb"
      },
      "outputs": [
        {
          "data": {
            "text/plain": [
              "[17, 14, 0, 15, 3, 1, 23, 16, 22, 18, 8, 7]"
            ]
          },
          "execution_count": 17,
          "metadata": {},
          "output_type": "execute_result"
        }
      ],
      "source": [
        "class_values=list(df.era.unique())\n",
        "class_values"
      ]
    },
    {
      "cell_type": "code",
      "execution_count": 18,
      "metadata": {
        "id": "JA13vruaj48k"
      },
      "outputs": [],
      "source": [
        "def encode(v,class_values=class_values):\n",
        "    return class_values.index(v)"
      ]
    },
    {
      "cell_type": "code",
      "execution_count": 19,
      "metadata": {
        "colab": {
          "base_uri": "https://localhost:8080/",
          "height": 448
        },
        "id": "qTzyg4mqkV-n",
        "outputId": "76169388-9c7f-4d6f-b5cf-ba873c2cc03b"
      },
      "outputs": [
        {
          "data": {
            "text/html": [
              "\n",
              "  <div id=\"df-eeaf8c66-4b97-4c45-9445-88e4e083a716\" class=\"colab-df-container\">\n",
              "    <div>\n",
              "<style scoped>\n",
              "    .dataframe tbody tr th:only-of-type {\n",
              "        vertical-align: middle;\n",
              "    }\n",
              "\n",
              "    .dataframe tbody tr th {\n",
              "        vertical-align: top;\n",
              "    }\n",
              "\n",
              "    .dataframe thead th {\n",
              "        text-align: right;\n",
              "    }\n",
              "</style>\n",
              "<table border=\"1\" class=\"dataframe\">\n",
              "  <thead>\n",
              "    <tr style=\"text-align: right;\">\n",
              "      <th></th>\n",
              "      <th>Open_n_val</th>\n",
              "      <th>High_n_val</th>\n",
              "      <th>Low_n_val</th>\n",
              "      <th>Close_n_val</th>\n",
              "      <th>Volume_n_val</th>\n",
              "      <th>SMA_10_val</th>\n",
              "      <th>SMA_20_val</th>\n",
              "      <th>CMO_14_val</th>\n",
              "      <th>High_n-Low_n_val</th>\n",
              "      <th>Open_n-Close_n_val</th>\n",
              "      <th>...</th>\n",
              "      <th>Close_n_slope_3_changelen_val</th>\n",
              "      <th>Close_n_slope_5_changelen_val</th>\n",
              "      <th>Close_n_slope_10_changelen_val</th>\n",
              "      <th>row_num</th>\n",
              "      <th>day</th>\n",
              "      <th>era</th>\n",
              "      <th>target_10_val</th>\n",
              "      <th>target_5_val</th>\n",
              "      <th>data_type</th>\n",
              "      <th>era_label</th>\n",
              "    </tr>\n",
              "  </thead>\n",
              "  <tbody>\n",
              "    <tr>\n",
              "      <th>34216</th>\n",
              "      <td>1.00</td>\n",
              "      <td>1.00</td>\n",
              "      <td>1.0</td>\n",
              "      <td>1.00</td>\n",
              "      <td>0.0</td>\n",
              "      <td>1.00</td>\n",
              "      <td>1.00</td>\n",
              "      <td>1.00</td>\n",
              "      <td>0.75</td>\n",
              "      <td>0.25</td>\n",
              "      <td>...</td>\n",
              "      <td>0.25</td>\n",
              "      <td>0.75</td>\n",
              "      <td>0.75</td>\n",
              "      <td>138</td>\n",
              "      <td>411</td>\n",
              "      <td>3</td>\n",
              "      <td>0.75</td>\n",
              "      <td>0.75</td>\n",
              "      <td>validation</td>\n",
              "      <td>4</td>\n",
              "    </tr>\n",
              "    <tr>\n",
              "      <th>162131</th>\n",
              "      <td>1.00</td>\n",
              "      <td>1.00</td>\n",
              "      <td>1.0</td>\n",
              "      <td>0.75</td>\n",
              "      <td>0.0</td>\n",
              "      <td>1.00</td>\n",
              "      <td>1.00</td>\n",
              "      <td>0.50</td>\n",
              "      <td>0.00</td>\n",
              "      <td>1.00</td>\n",
              "      <td>...</td>\n",
              "      <td>0.00</td>\n",
              "      <td>0.00</td>\n",
              "      <td>0.25</td>\n",
              "      <td>109</td>\n",
              "      <td>464</td>\n",
              "      <td>14</td>\n",
              "      <td>0.00</td>\n",
              "      <td>0.00</td>\n",
              "      <td>validation</td>\n",
              "      <td>1</td>\n",
              "    </tr>\n",
              "    <tr>\n",
              "      <th>12384</th>\n",
              "      <td>0.00</td>\n",
              "      <td>0.00</td>\n",
              "      <td>0.0</td>\n",
              "      <td>0.00</td>\n",
              "      <td>0.0</td>\n",
              "      <td>0.00</td>\n",
              "      <td>0.00</td>\n",
              "      <td>1.00</td>\n",
              "      <td>1.00</td>\n",
              "      <td>0.00</td>\n",
              "      <td>...</td>\n",
              "      <td>0.50</td>\n",
              "      <td>0.25</td>\n",
              "      <td>0.50</td>\n",
              "      <td>135</td>\n",
              "      <td>415</td>\n",
              "      <td>7</td>\n",
              "      <td>0.75</td>\n",
              "      <td>0.00</td>\n",
              "      <td>validation</td>\n",
              "      <td>11</td>\n",
              "    </tr>\n",
              "    <tr>\n",
              "      <th>65822</th>\n",
              "      <td>0.00</td>\n",
              "      <td>0.00</td>\n",
              "      <td>0.0</td>\n",
              "      <td>0.00</td>\n",
              "      <td>0.0</td>\n",
              "      <td>0.25</td>\n",
              "      <td>0.25</td>\n",
              "      <td>0.25</td>\n",
              "      <td>0.50</td>\n",
              "      <td>0.25</td>\n",
              "      <td>...</td>\n",
              "      <td>0.75</td>\n",
              "      <td>0.75</td>\n",
              "      <td>0.00</td>\n",
              "      <td>89</td>\n",
              "      <td>442</td>\n",
              "      <td>17</td>\n",
              "      <td>1.00</td>\n",
              "      <td>1.00</td>\n",
              "      <td>validation</td>\n",
              "      <td>0</td>\n",
              "    </tr>\n",
              "    <tr>\n",
              "      <th>98781</th>\n",
              "      <td>0.00</td>\n",
              "      <td>0.00</td>\n",
              "      <td>0.0</td>\n",
              "      <td>0.00</td>\n",
              "      <td>0.0</td>\n",
              "      <td>0.25</td>\n",
              "      <td>0.00</td>\n",
              "      <td>0.25</td>\n",
              "      <td>0.25</td>\n",
              "      <td>1.00</td>\n",
              "      <td>...</td>\n",
              "      <td>0.50</td>\n",
              "      <td>0.25</td>\n",
              "      <td>0.25</td>\n",
              "      <td>79</td>\n",
              "      <td>544</td>\n",
              "      <td>14</td>\n",
              "      <td>0.75</td>\n",
              "      <td>0.00</td>\n",
              "      <td>validation</td>\n",
              "      <td>1</td>\n",
              "    </tr>\n",
              "    <tr>\n",
              "      <th>...</th>\n",
              "      <td>...</td>\n",
              "      <td>...</td>\n",
              "      <td>...</td>\n",
              "      <td>...</td>\n",
              "      <td>...</td>\n",
              "      <td>...</td>\n",
              "      <td>...</td>\n",
              "      <td>...</td>\n",
              "      <td>...</td>\n",
              "      <td>...</td>\n",
              "      <td>...</td>\n",
              "      <td>...</td>\n",
              "      <td>...</td>\n",
              "      <td>...</td>\n",
              "      <td>...</td>\n",
              "      <td>...</td>\n",
              "      <td>...</td>\n",
              "      <td>...</td>\n",
              "      <td>...</td>\n",
              "      <td>...</td>\n",
              "      <td>...</td>\n",
              "    </tr>\n",
              "    <tr>\n",
              "      <th>241306</th>\n",
              "      <td>0.00</td>\n",
              "      <td>0.00</td>\n",
              "      <td>0.0</td>\n",
              "      <td>0.00</td>\n",
              "      <td>0.0</td>\n",
              "      <td>0.00</td>\n",
              "      <td>0.00</td>\n",
              "      <td>0.25</td>\n",
              "      <td>0.50</td>\n",
              "      <td>0.25</td>\n",
              "      <td>...</td>\n",
              "      <td>1.00</td>\n",
              "      <td>1.00</td>\n",
              "      <td>1.00</td>\n",
              "      <td>119</td>\n",
              "      <td>549</td>\n",
              "      <td>7</td>\n",
              "      <td>1.00</td>\n",
              "      <td>1.00</td>\n",
              "      <td>validation</td>\n",
              "      <td>11</td>\n",
              "    </tr>\n",
              "    <tr>\n",
              "      <th>234803</th>\n",
              "      <td>1.00</td>\n",
              "      <td>1.00</td>\n",
              "      <td>1.0</td>\n",
              "      <td>1.00</td>\n",
              "      <td>0.0</td>\n",
              "      <td>0.75</td>\n",
              "      <td>1.00</td>\n",
              "      <td>0.75</td>\n",
              "      <td>0.25</td>\n",
              "      <td>0.00</td>\n",
              "      <td>...</td>\n",
              "      <td>0.25</td>\n",
              "      <td>0.50</td>\n",
              "      <td>1.00</td>\n",
              "      <td>107</td>\n",
              "      <td>382</td>\n",
              "      <td>18</td>\n",
              "      <td>0.00</td>\n",
              "      <td>0.00</td>\n",
              "      <td>validation</td>\n",
              "      <td>9</td>\n",
              "    </tr>\n",
              "    <tr>\n",
              "      <th>59571</th>\n",
              "      <td>0.25</td>\n",
              "      <td>0.25</td>\n",
              "      <td>0.0</td>\n",
              "      <td>0.00</td>\n",
              "      <td>0.0</td>\n",
              "      <td>0.25</td>\n",
              "      <td>0.00</td>\n",
              "      <td>0.25</td>\n",
              "      <td>0.75</td>\n",
              "      <td>0.75</td>\n",
              "      <td>...</td>\n",
              "      <td>0.00</td>\n",
              "      <td>0.25</td>\n",
              "      <td>0.00</td>\n",
              "      <td>127</td>\n",
              "      <td>400</td>\n",
              "      <td>16</td>\n",
              "      <td>0.75</td>\n",
              "      <td>0.00</td>\n",
              "      <td>validation</td>\n",
              "      <td>7</td>\n",
              "    </tr>\n",
              "    <tr>\n",
              "      <th>230962</th>\n",
              "      <td>1.00</td>\n",
              "      <td>1.00</td>\n",
              "      <td>1.0</td>\n",
              "      <td>1.00</td>\n",
              "      <td>0.0</td>\n",
              "      <td>1.00</td>\n",
              "      <td>0.75</td>\n",
              "      <td>0.75</td>\n",
              "      <td>0.75</td>\n",
              "      <td>0.75</td>\n",
              "      <td>...</td>\n",
              "      <td>0.00</td>\n",
              "      <td>0.00</td>\n",
              "      <td>0.25</td>\n",
              "      <td>103</td>\n",
              "      <td>506</td>\n",
              "      <td>14</td>\n",
              "      <td>0.00</td>\n",
              "      <td>0.00</td>\n",
              "      <td>validation</td>\n",
              "      <td>1</td>\n",
              "    </tr>\n",
              "    <tr>\n",
              "      <th>191455</th>\n",
              "      <td>1.00</td>\n",
              "      <td>1.00</td>\n",
              "      <td>1.0</td>\n",
              "      <td>1.00</td>\n",
              "      <td>0.0</td>\n",
              "      <td>1.00</td>\n",
              "      <td>1.00</td>\n",
              "      <td>0.75</td>\n",
              "      <td>0.75</td>\n",
              "      <td>0.75</td>\n",
              "      <td>...</td>\n",
              "      <td>0.00</td>\n",
              "      <td>0.00</td>\n",
              "      <td>0.00</td>\n",
              "      <td>110</td>\n",
              "      <td>470</td>\n",
              "      <td>18</td>\n",
              "      <td>0.00</td>\n",
              "      <td>0.00</td>\n",
              "      <td>validation</td>\n",
              "      <td>9</td>\n",
              "    </tr>\n",
              "  </tbody>\n",
              "</table>\n",
              "<p>249600 rows × 31 columns</p>\n",
              "</div>\n",
              "    <div class=\"colab-df-buttons\">\n",
              "\n",
              "  <div class=\"colab-df-container\">\n",
              "    <button class=\"colab-df-convert\" onclick=\"convertToInteractive('df-eeaf8c66-4b97-4c45-9445-88e4e083a716')\"\n",
              "            title=\"Convert this dataframe to an interactive table.\"\n",
              "            style=\"display:none;\">\n",
              "\n",
              "  <svg xmlns=\"http://www.w3.org/2000/svg\" height=\"24px\" viewBox=\"0 -960 960 960\">\n",
              "    <path d=\"M120-120v-720h720v720H120Zm60-500h600v-160H180v160Zm220 220h160v-160H400v160Zm0 220h160v-160H400v160ZM180-400h160v-160H180v160Zm440 0h160v-160H620v160ZM180-180h160v-160H180v160Zm440 0h160v-160H620v160Z\"/>\n",
              "  </svg>\n",
              "    </button>\n",
              "\n",
              "  <style>\n",
              "    .colab-df-container {\n",
              "      display:flex;\n",
              "      gap: 12px;\n",
              "    }\n",
              "\n",
              "    .colab-df-convert {\n",
              "      background-color: #E8F0FE;\n",
              "      border: none;\n",
              "      border-radius: 50%;\n",
              "      cursor: pointer;\n",
              "      display: none;\n",
              "      fill: #1967D2;\n",
              "      height: 32px;\n",
              "      padding: 0 0 0 0;\n",
              "      width: 32px;\n",
              "    }\n",
              "\n",
              "    .colab-df-convert:hover {\n",
              "      background-color: #E2EBFA;\n",
              "      box-shadow: 0px 1px 2px rgba(60, 64, 67, 0.3), 0px 1px 3px 1px rgba(60, 64, 67, 0.15);\n",
              "      fill: #174EA6;\n",
              "    }\n",
              "\n",
              "    .colab-df-buttons div {\n",
              "      margin-bottom: 4px;\n",
              "    }\n",
              "\n",
              "    [theme=dark] .colab-df-convert {\n",
              "      background-color: #3B4455;\n",
              "      fill: #D2E3FC;\n",
              "    }\n",
              "\n",
              "    [theme=dark] .colab-df-convert:hover {\n",
              "      background-color: #434B5C;\n",
              "      box-shadow: 0px 1px 3px 1px rgba(0, 0, 0, 0.15);\n",
              "      filter: drop-shadow(0px 1px 2px rgba(0, 0, 0, 0.3));\n",
              "      fill: #FFFFFF;\n",
              "    }\n",
              "  </style>\n",
              "\n",
              "    <script>\n",
              "      const buttonEl =\n",
              "        document.querySelector('#df-eeaf8c66-4b97-4c45-9445-88e4e083a716 button.colab-df-convert');\n",
              "      buttonEl.style.display =\n",
              "        google.colab.kernel.accessAllowed ? 'block' : 'none';\n",
              "\n",
              "      async function convertToInteractive(key) {\n",
              "        const element = document.querySelector('#df-eeaf8c66-4b97-4c45-9445-88e4e083a716');\n",
              "        const dataTable =\n",
              "          await google.colab.kernel.invokeFunction('convertToInteractive',\n",
              "                                                    [key], {});\n",
              "        if (!dataTable) return;\n",
              "\n",
              "        const docLinkHtml = 'Like what you see? Visit the ' +\n",
              "          '<a target=\"_blank\" href=https://colab.research.google.com/notebooks/data_table.ipynb>data table notebook</a>'\n",
              "          + ' to learn more about interactive tables.';\n",
              "        element.innerHTML = '';\n",
              "        dataTable['output_type'] = 'display_data';\n",
              "        await google.colab.output.renderOutput(dataTable, element);\n",
              "        const docLink = document.createElement('div');\n",
              "        docLink.innerHTML = docLinkHtml;\n",
              "        element.appendChild(docLink);\n",
              "      }\n",
              "    </script>\n",
              "  </div>\n",
              "\n",
              "\n",
              "<div id=\"df-8d067732-ee00-48e6-aa89-340b52b6ebda\">\n",
              "  <button class=\"colab-df-quickchart\" onclick=\"quickchart('df-8d067732-ee00-48e6-aa89-340b52b6ebda')\"\n",
              "            title=\"Suggest charts\"\n",
              "            style=\"display:none;\">\n",
              "\n",
              "<svg xmlns=\"http://www.w3.org/2000/svg\" height=\"24px\"viewBox=\"0 0 24 24\"\n",
              "     width=\"24px\">\n",
              "    <g>\n",
              "        <path d=\"M19 3H5c-1.1 0-2 .9-2 2v14c0 1.1.9 2 2 2h14c1.1 0 2-.9 2-2V5c0-1.1-.9-2-2-2zM9 17H7v-7h2v7zm4 0h-2V7h2v10zm4 0h-2v-4h2v4z\"/>\n",
              "    </g>\n",
              "</svg>\n",
              "  </button>\n",
              "\n",
              "<style>\n",
              "  .colab-df-quickchart {\n",
              "      --bg-color: #E8F0FE;\n",
              "      --fill-color: #1967D2;\n",
              "      --hover-bg-color: #E2EBFA;\n",
              "      --hover-fill-color: #174EA6;\n",
              "      --disabled-fill-color: #AAA;\n",
              "      --disabled-bg-color: #DDD;\n",
              "  }\n",
              "\n",
              "  [theme=dark] .colab-df-quickchart {\n",
              "      --bg-color: #3B4455;\n",
              "      --fill-color: #D2E3FC;\n",
              "      --hover-bg-color: #434B5C;\n",
              "      --hover-fill-color: #FFFFFF;\n",
              "      --disabled-bg-color: #3B4455;\n",
              "      --disabled-fill-color: #666;\n",
              "  }\n",
              "\n",
              "  .colab-df-quickchart {\n",
              "    background-color: var(--bg-color);\n",
              "    border: none;\n",
              "    border-radius: 50%;\n",
              "    cursor: pointer;\n",
              "    display: none;\n",
              "    fill: var(--fill-color);\n",
              "    height: 32px;\n",
              "    padding: 0;\n",
              "    width: 32px;\n",
              "  }\n",
              "\n",
              "  .colab-df-quickchart:hover {\n",
              "    background-color: var(--hover-bg-color);\n",
              "    box-shadow: 0 1px 2px rgba(60, 64, 67, 0.3), 0 1px 3px 1px rgba(60, 64, 67, 0.15);\n",
              "    fill: var(--button-hover-fill-color);\n",
              "  }\n",
              "\n",
              "  .colab-df-quickchart-complete:disabled,\n",
              "  .colab-df-quickchart-complete:disabled:hover {\n",
              "    background-color: var(--disabled-bg-color);\n",
              "    fill: var(--disabled-fill-color);\n",
              "    box-shadow: none;\n",
              "  }\n",
              "\n",
              "  .colab-df-spinner {\n",
              "    border: 2px solid var(--fill-color);\n",
              "    border-color: transparent;\n",
              "    border-bottom-color: var(--fill-color);\n",
              "    animation:\n",
              "      spin 1s steps(1) infinite;\n",
              "  }\n",
              "\n",
              "  @keyframes spin {\n",
              "    0% {\n",
              "      border-color: transparent;\n",
              "      border-bottom-color: var(--fill-color);\n",
              "      border-left-color: var(--fill-color);\n",
              "    }\n",
              "    20% {\n",
              "      border-color: transparent;\n",
              "      border-left-color: var(--fill-color);\n",
              "      border-top-color: var(--fill-color);\n",
              "    }\n",
              "    30% {\n",
              "      border-color: transparent;\n",
              "      border-left-color: var(--fill-color);\n",
              "      border-top-color: var(--fill-color);\n",
              "      border-right-color: var(--fill-color);\n",
              "    }\n",
              "    40% {\n",
              "      border-color: transparent;\n",
              "      border-right-color: var(--fill-color);\n",
              "      border-top-color: var(--fill-color);\n",
              "    }\n",
              "    60% {\n",
              "      border-color: transparent;\n",
              "      border-right-color: var(--fill-color);\n",
              "    }\n",
              "    80% {\n",
              "      border-color: transparent;\n",
              "      border-right-color: var(--fill-color);\n",
              "      border-bottom-color: var(--fill-color);\n",
              "    }\n",
              "    90% {\n",
              "      border-color: transparent;\n",
              "      border-bottom-color: var(--fill-color);\n",
              "    }\n",
              "  }\n",
              "</style>\n",
              "\n",
              "  <script>\n",
              "    async function quickchart(key) {\n",
              "      const quickchartButtonEl =\n",
              "        document.querySelector('#' + key + ' button');\n",
              "      quickchartButtonEl.disabled = true;  // To prevent multiple clicks.\n",
              "      quickchartButtonEl.classList.add('colab-df-spinner');\n",
              "      try {\n",
              "        const charts = await google.colab.kernel.invokeFunction(\n",
              "            'suggestCharts', [key], {});\n",
              "      } catch (error) {\n",
              "        console.error('Error during call to suggestCharts:', error);\n",
              "      }\n",
              "      quickchartButtonEl.classList.remove('colab-df-spinner');\n",
              "      quickchartButtonEl.classList.add('colab-df-quickchart-complete');\n",
              "    }\n",
              "    (() => {\n",
              "      let quickchartButtonEl =\n",
              "        document.querySelector('#df-8d067732-ee00-48e6-aa89-340b52b6ebda button');\n",
              "      quickchartButtonEl.style.display =\n",
              "        google.colab.kernel.accessAllowed ? 'block' : 'none';\n",
              "    })();\n",
              "  </script>\n",
              "</div>\n",
              "    </div>\n",
              "  </div>\n"
            ],
            "text/plain": [
              "        Open_n_val  High_n_val  Low_n_val  Close_n_val  Volume_n_val  \\\n",
              "34216         1.00        1.00        1.0         1.00           0.0   \n",
              "162131        1.00        1.00        1.0         0.75           0.0   \n",
              "12384         0.00        0.00        0.0         0.00           0.0   \n",
              "65822         0.00        0.00        0.0         0.00           0.0   \n",
              "98781         0.00        0.00        0.0         0.00           0.0   \n",
              "...            ...         ...        ...          ...           ...   \n",
              "241306        0.00        0.00        0.0         0.00           0.0   \n",
              "234803        1.00        1.00        1.0         1.00           0.0   \n",
              "59571         0.25        0.25        0.0         0.00           0.0   \n",
              "230962        1.00        1.00        1.0         1.00           0.0   \n",
              "191455        1.00        1.00        1.0         1.00           0.0   \n",
              "\n",
              "        SMA_10_val  SMA_20_val  CMO_14_val  High_n-Low_n_val  \\\n",
              "34216         1.00        1.00        1.00              0.75   \n",
              "162131        1.00        1.00        0.50              0.00   \n",
              "12384         0.00        0.00        1.00              1.00   \n",
              "65822         0.25        0.25        0.25              0.50   \n",
              "98781         0.25        0.00        0.25              0.25   \n",
              "...            ...         ...         ...               ...   \n",
              "241306        0.00        0.00        0.25              0.50   \n",
              "234803        0.75        1.00        0.75              0.25   \n",
              "59571         0.25        0.00        0.25              0.75   \n",
              "230962        1.00        0.75        0.75              0.75   \n",
              "191455        1.00        1.00        0.75              0.75   \n",
              "\n",
              "        Open_n-Close_n_val  ...  Close_n_slope_3_changelen_val  \\\n",
              "34216                 0.25  ...                           0.25   \n",
              "162131                1.00  ...                           0.00   \n",
              "12384                 0.00  ...                           0.50   \n",
              "65822                 0.25  ...                           0.75   \n",
              "98781                 1.00  ...                           0.50   \n",
              "...                    ...  ...                            ...   \n",
              "241306                0.25  ...                           1.00   \n",
              "234803                0.00  ...                           0.25   \n",
              "59571                 0.75  ...                           0.00   \n",
              "230962                0.75  ...                           0.00   \n",
              "191455                0.75  ...                           0.00   \n",
              "\n",
              "        Close_n_slope_5_changelen_val  Close_n_slope_10_changelen_val  \\\n",
              "34216                            0.75                            0.75   \n",
              "162131                           0.00                            0.25   \n",
              "12384                            0.25                            0.50   \n",
              "65822                            0.75                            0.00   \n",
              "98781                            0.25                            0.25   \n",
              "...                               ...                             ...   \n",
              "241306                           1.00                            1.00   \n",
              "234803                           0.50                            1.00   \n",
              "59571                            0.25                            0.00   \n",
              "230962                           0.00                            0.25   \n",
              "191455                           0.00                            0.00   \n",
              "\n",
              "        row_num  day  era  target_10_val  target_5_val   data_type  era_label  \n",
              "34216       138  411    3           0.75          0.75  validation          4  \n",
              "162131      109  464   14           0.00          0.00  validation          1  \n",
              "12384       135  415    7           0.75          0.00  validation         11  \n",
              "65822        89  442   17           1.00          1.00  validation          0  \n",
              "98781        79  544   14           0.75          0.00  validation          1  \n",
              "...         ...  ...  ...            ...           ...         ...        ...  \n",
              "241306      119  549    7           1.00          1.00  validation         11  \n",
              "234803      107  382   18           0.00          0.00  validation          9  \n",
              "59571       127  400   16           0.75          0.00  validation          7  \n",
              "230962      103  506   14           0.00          0.00  validation          1  \n",
              "191455      110  470   18           0.00          0.00  validation          9  \n",
              "\n",
              "[249600 rows x 31 columns]"
            ]
          },
          "execution_count": 19,
          "metadata": {},
          "output_type": "execute_result"
        }
      ],
      "source": [
        "df['era_label']=df['era'].apply(encode)\n",
        "df['era_label'].unique()\n",
        "df=df.sample(frac=1.0)\n",
        "df"
      ]
    },
    {
      "cell_type": "code",
      "execution_count": 20,
      "metadata": {
        "id": "CT82xPN_kZdl"
      },
      "outputs": [],
      "source": [
        "df_train=df.iloc[0:(len(df)*7)//10]\n",
        "df_test = df.iloc[(len(df)*7)//10:]"
      ]
    },
    {
      "cell_type": "code",
      "execution_count": 21,
      "metadata": {
        "id": "ICvdcpvokdcC"
      },
      "outputs": [],
      "source": [
        "x_train=df_train.iloc[:,0:-6].values\n",
        "y_train=df_train.iloc[:,-1].values\n",
        "x_test=df_test.iloc[:,0:-6].values\n",
        "y_test=df_test.iloc[:,-1].values"
      ]
    },
    {
      "cell_type": "code",
      "execution_count": 22,
      "metadata": {
        "colab": {
          "base_uri": "https://localhost:8080/"
        },
        "id": "9Tk87fB3t7Pn",
        "outputId": "f230b78c-fe1d-4e09-fc16-b2f3a82c8361"
      },
      "outputs": [
        {
          "data": {
            "text/plain": [
              "((174720, 25), (174720,), (74880, 25), (74880,))"
            ]
          },
          "execution_count": 22,
          "metadata": {},
          "output_type": "execute_result"
        }
      ],
      "source": [
        "x_train.shape, y_train.shape, x_test.shape, y_test.shape"
      ]
    },
    {
      "cell_type": "markdown",
      "metadata": {
        "id": "u59wCq-owrgB"
      },
      "source": [
        "### Training on noisy data"
      ]
    },
    {
      "cell_type": "code",
      "execution_count": 23,
      "metadata": {
        "id": "041le2LEkhcT"
      },
      "outputs": [],
      "source": [
        "ds_train=MyDS(x_train,y_train)"
      ]
    },
    {
      "cell_type": "code",
      "execution_count": 24,
      "metadata": {
        "colab": {
          "base_uri": "https://localhost:8080/"
        },
        "id": "_YUZutHSsIKF",
        "outputId": "1def71aa-84a4-4c53-99f2-94e7c3b8f0d3"
      },
      "outputs": [
        {
          "name": "stdout",
          "output_type": "stream",
          "text": [
            "Epoch   9 Loss: 1.36406e+00 Accuracy: 0.49799 Epoch Time: 14.74987\n"
          ]
        }
      ],
      "source": [
        "net=MLP(dims=[25,64,32,12])\n",
        "dloader=torch.utils.data.DataLoader(dataset=ds_train,batch_size=32,shuffle=True)\n",
        "net,losses,accs=Train(net,dloader,epochs=10,verbose=True)"
      ]
    },
    {
      "cell_type": "code",
      "execution_count": 25,
      "metadata": {
        "id": "lWErRmvnseH9"
      },
      "outputs": [],
      "source": [
        "ds_test=MyDS(x_test,y_test)"
      ]
    },
    {
      "cell_type": "code",
      "execution_count": 26,
      "metadata": {
        "colab": {
          "base_uri": "https://localhost:8080/"
        },
        "id": "hjqXXrqFsfUp",
        "outputId": "4175d799-47e7-4615-ffd3-1186b2a48764"
      },
      "outputs": [
        {
          "name": "stdout",
          "output_type": "stream",
          "text": [
            "85664.0 174720\n"
          ]
        },
        {
          "data": {
            "text/plain": [
              "0.49029304029304027"
            ]
          },
          "execution_count": 26,
          "metadata": {},
          "output_type": "execute_result"
        }
      ],
      "source": [
        "accuracy(net,ds_train.samples,ds_train.labels)"
      ]
    },
    {
      "cell_type": "markdown",
      "metadata": {
        "id": "3Lvetd9NwwoU"
      },
      "source": [
        "### Removing noise using AdaBoost"
      ]
    },
    {
      "cell_type": "code",
      "execution_count": 27,
      "metadata": {
        "id": "zE-b1yAo2iXV"
      },
      "outputs": [],
      "source": [
        "original_df = df.copy()"
      ]
    },
    {
      "cell_type": "code",
      "execution_count": 28,
      "metadata": {
        "id": "NBdiDaDH3NMu"
      },
      "outputs": [],
      "source": [
        "X = df.iloc[:,0:-6].values\n",
        "y = df.iloc[:,-1].values"
      ]
    },
    {
      "cell_type": "code",
      "execution_count": 29,
      "metadata": {
        "id": "3HqG3Jyx3P0r"
      },
      "outputs": [],
      "source": [
        "del df"
      ]
    },
    {
      "cell_type": "code",
      "execution_count": 30,
      "metadata": {
        "id": "OG2sDPvltv1U"
      },
      "outputs": [],
      "source": [
        "import numpy as np\n",
        "from sklearn.ensemble import AdaBoostClassifier\n",
        "from sklearn.tree import DecisionTreeClassifier\n",
        "ada = AdaBoostClassifier(DecisionTreeClassifier(max_depth=2), n_estimators=100)\n",
        "ada.fit(X, y)\n",
        "importances = ada.feature_importances_\n",
        "indices = np.argsort(importances)[::-1]\n",
        "n_top_features = int(0.8 * len(indices))\n",
        "top_feature_indices = indices[:n_top_features]"
      ]
    },
    {
      "cell_type": "code",
      "execution_count": 31,
      "metadata": {
        "id": "AH4RMBUU1z8O"
      },
      "outputs": [],
      "source": [
        "X_selected = X[:, top_feature_indices]\n",
        "X_selected_df = pd.DataFrame(X_selected)\n",
        "X_selected_df['target'] = y"
      ]
    },
    {
      "cell_type": "code",
      "execution_count": 32,
      "metadata": {
        "colab": {
          "base_uri": "https://localhost:8080/"
        },
        "id": "urYXVfKy0ftn",
        "outputId": "1db68371-0a53-4339-9e09-3ccdcbef0b92"
      },
      "outputs": [
        {
          "data": {
            "text/plain": [
              "(249600, 20)"
            ]
          },
          "execution_count": 32,
          "metadata": {},
          "output_type": "execute_result"
        }
      ],
      "source": [
        "X_selected.shape"
      ]
    },
    {
      "cell_type": "code",
      "execution_count": 33,
      "metadata": {
        "colab": {
          "base_uri": "https://localhost:8080/",
          "height": 411
        },
        "id": "0pjE9sVz2Yv9",
        "outputId": "5f5b3156-fbd5-4aa9-fdd9-a4573f0f2f61"
      },
      "outputs": [
        {
          "data": {
            "text/html": [
              "\n",
              "  <div id=\"df-36e7a946-1384-45db-906d-ecb485f4a1bc\" class=\"colab-df-container\">\n",
              "    <div>\n",
              "<style scoped>\n",
              "    .dataframe tbody tr th:only-of-type {\n",
              "        vertical-align: middle;\n",
              "    }\n",
              "\n",
              "    .dataframe tbody tr th {\n",
              "        vertical-align: top;\n",
              "    }\n",
              "\n",
              "    .dataframe thead th {\n",
              "        text-align: right;\n",
              "    }\n",
              "</style>\n",
              "<table border=\"1\" class=\"dataframe\">\n",
              "  <thead>\n",
              "    <tr style=\"text-align: right;\">\n",
              "      <th></th>\n",
              "      <th>0</th>\n",
              "      <th>1</th>\n",
              "      <th>2</th>\n",
              "      <th>3</th>\n",
              "      <th>4</th>\n",
              "      <th>5</th>\n",
              "      <th>6</th>\n",
              "      <th>7</th>\n",
              "      <th>8</th>\n",
              "      <th>9</th>\n",
              "      <th>...</th>\n",
              "      <th>11</th>\n",
              "      <th>12</th>\n",
              "      <th>13</th>\n",
              "      <th>14</th>\n",
              "      <th>15</th>\n",
              "      <th>16</th>\n",
              "      <th>17</th>\n",
              "      <th>18</th>\n",
              "      <th>19</th>\n",
              "      <th>target</th>\n",
              "    </tr>\n",
              "  </thead>\n",
              "  <tbody>\n",
              "    <tr>\n",
              "      <th>0</th>\n",
              "      <td>1.00</td>\n",
              "      <td>138.0</td>\n",
              "      <td>0.25</td>\n",
              "      <td>1.00</td>\n",
              "      <td>0.50</td>\n",
              "      <td>0.75</td>\n",
              "      <td>1.00</td>\n",
              "      <td>1.00</td>\n",
              "      <td>0.75</td>\n",
              "      <td>1.0</td>\n",
              "      <td>...</td>\n",
              "      <td>0.75</td>\n",
              "      <td>0.25</td>\n",
              "      <td>1.00</td>\n",
              "      <td>1.00</td>\n",
              "      <td>0.75</td>\n",
              "      <td>0.50</td>\n",
              "      <td>0.75</td>\n",
              "      <td>1.00</td>\n",
              "      <td>0.25</td>\n",
              "      <td>4</td>\n",
              "    </tr>\n",
              "    <tr>\n",
              "      <th>1</th>\n",
              "      <td>1.00</td>\n",
              "      <td>109.0</td>\n",
              "      <td>0.00</td>\n",
              "      <td>1.00</td>\n",
              "      <td>1.00</td>\n",
              "      <td>0.00</td>\n",
              "      <td>0.50</td>\n",
              "      <td>1.00</td>\n",
              "      <td>0.25</td>\n",
              "      <td>1.0</td>\n",
              "      <td>...</td>\n",
              "      <td>0.00</td>\n",
              "      <td>1.00</td>\n",
              "      <td>0.75</td>\n",
              "      <td>1.00</td>\n",
              "      <td>0.00</td>\n",
              "      <td>0.50</td>\n",
              "      <td>0.00</td>\n",
              "      <td>0.00</td>\n",
              "      <td>0.00</td>\n",
              "      <td>1</td>\n",
              "    </tr>\n",
              "    <tr>\n",
              "      <th>2</th>\n",
              "      <td>0.00</td>\n",
              "      <td>135.0</td>\n",
              "      <td>0.00</td>\n",
              "      <td>0.00</td>\n",
              "      <td>0.00</td>\n",
              "      <td>1.00</td>\n",
              "      <td>1.00</td>\n",
              "      <td>0.00</td>\n",
              "      <td>0.50</td>\n",
              "      <td>0.0</td>\n",
              "      <td>...</td>\n",
              "      <td>0.25</td>\n",
              "      <td>0.00</td>\n",
              "      <td>0.00</td>\n",
              "      <td>0.00</td>\n",
              "      <td>1.00</td>\n",
              "      <td>0.25</td>\n",
              "      <td>1.00</td>\n",
              "      <td>0.50</td>\n",
              "      <td>0.00</td>\n",
              "      <td>11</td>\n",
              "    </tr>\n",
              "    <tr>\n",
              "      <th>3</th>\n",
              "      <td>0.25</td>\n",
              "      <td>89.0</td>\n",
              "      <td>0.75</td>\n",
              "      <td>0.25</td>\n",
              "      <td>0.75</td>\n",
              "      <td>0.00</td>\n",
              "      <td>0.25</td>\n",
              "      <td>0.00</td>\n",
              "      <td>0.00</td>\n",
              "      <td>0.0</td>\n",
              "      <td>...</td>\n",
              "      <td>0.75</td>\n",
              "      <td>0.25</td>\n",
              "      <td>0.00</td>\n",
              "      <td>0.00</td>\n",
              "      <td>0.25</td>\n",
              "      <td>0.25</td>\n",
              "      <td>0.50</td>\n",
              "      <td>0.25</td>\n",
              "      <td>1.00</td>\n",
              "      <td>0</td>\n",
              "    </tr>\n",
              "    <tr>\n",
              "      <th>4</th>\n",
              "      <td>0.00</td>\n",
              "      <td>79.0</td>\n",
              "      <td>0.00</td>\n",
              "      <td>0.25</td>\n",
              "      <td>0.00</td>\n",
              "      <td>0.75</td>\n",
              "      <td>0.25</td>\n",
              "      <td>0.00</td>\n",
              "      <td>0.25</td>\n",
              "      <td>0.0</td>\n",
              "      <td>...</td>\n",
              "      <td>0.25</td>\n",
              "      <td>1.00</td>\n",
              "      <td>0.00</td>\n",
              "      <td>0.00</td>\n",
              "      <td>0.00</td>\n",
              "      <td>0.25</td>\n",
              "      <td>0.25</td>\n",
              "      <td>0.25</td>\n",
              "      <td>1.00</td>\n",
              "      <td>1</td>\n",
              "    </tr>\n",
              "    <tr>\n",
              "      <th>...</th>\n",
              "      <td>...</td>\n",
              "      <td>...</td>\n",
              "      <td>...</td>\n",
              "      <td>...</td>\n",
              "      <td>...</td>\n",
              "      <td>...</td>\n",
              "      <td>...</td>\n",
              "      <td>...</td>\n",
              "      <td>...</td>\n",
              "      <td>...</td>\n",
              "      <td>...</td>\n",
              "      <td>...</td>\n",
              "      <td>...</td>\n",
              "      <td>...</td>\n",
              "      <td>...</td>\n",
              "      <td>...</td>\n",
              "      <td>...</td>\n",
              "      <td>...</td>\n",
              "      <td>...</td>\n",
              "      <td>...</td>\n",
              "      <td>...</td>\n",
              "    </tr>\n",
              "    <tr>\n",
              "      <th>249595</th>\n",
              "      <td>0.00</td>\n",
              "      <td>119.0</td>\n",
              "      <td>0.75</td>\n",
              "      <td>0.00</td>\n",
              "      <td>0.00</td>\n",
              "      <td>0.75</td>\n",
              "      <td>0.25</td>\n",
              "      <td>0.00</td>\n",
              "      <td>1.00</td>\n",
              "      <td>0.0</td>\n",
              "      <td>...</td>\n",
              "      <td>1.00</td>\n",
              "      <td>0.25</td>\n",
              "      <td>0.00</td>\n",
              "      <td>0.00</td>\n",
              "      <td>0.75</td>\n",
              "      <td>0.00</td>\n",
              "      <td>0.50</td>\n",
              "      <td>0.75</td>\n",
              "      <td>0.00</td>\n",
              "      <td>11</td>\n",
              "    </tr>\n",
              "    <tr>\n",
              "      <th>249596</th>\n",
              "      <td>1.00</td>\n",
              "      <td>107.0</td>\n",
              "      <td>0.50</td>\n",
              "      <td>0.75</td>\n",
              "      <td>0.25</td>\n",
              "      <td>1.00</td>\n",
              "      <td>0.75</td>\n",
              "      <td>1.00</td>\n",
              "      <td>1.00</td>\n",
              "      <td>1.0</td>\n",
              "      <td>...</td>\n",
              "      <td>0.50</td>\n",
              "      <td>0.00</td>\n",
              "      <td>1.00</td>\n",
              "      <td>1.00</td>\n",
              "      <td>1.00</td>\n",
              "      <td>0.75</td>\n",
              "      <td>0.25</td>\n",
              "      <td>0.75</td>\n",
              "      <td>1.00</td>\n",
              "      <td>9</td>\n",
              "    </tr>\n",
              "    <tr>\n",
              "      <th>249597</th>\n",
              "      <td>0.00</td>\n",
              "      <td>127.0</td>\n",
              "      <td>0.00</td>\n",
              "      <td>0.25</td>\n",
              "      <td>0.00</td>\n",
              "      <td>0.50</td>\n",
              "      <td>0.25</td>\n",
              "      <td>0.25</td>\n",
              "      <td>0.00</td>\n",
              "      <td>0.0</td>\n",
              "      <td>...</td>\n",
              "      <td>0.25</td>\n",
              "      <td>0.75</td>\n",
              "      <td>0.00</td>\n",
              "      <td>0.25</td>\n",
              "      <td>0.00</td>\n",
              "      <td>0.50</td>\n",
              "      <td>0.75</td>\n",
              "      <td>0.50</td>\n",
              "      <td>0.25</td>\n",
              "      <td>7</td>\n",
              "    </tr>\n",
              "    <tr>\n",
              "      <th>249598</th>\n",
              "      <td>0.75</td>\n",
              "      <td>103.0</td>\n",
              "      <td>0.00</td>\n",
              "      <td>1.00</td>\n",
              "      <td>0.50</td>\n",
              "      <td>1.00</td>\n",
              "      <td>0.75</td>\n",
              "      <td>1.00</td>\n",
              "      <td>0.25</td>\n",
              "      <td>1.0</td>\n",
              "      <td>...</td>\n",
              "      <td>0.00</td>\n",
              "      <td>0.75</td>\n",
              "      <td>1.00</td>\n",
              "      <td>1.00</td>\n",
              "      <td>0.75</td>\n",
              "      <td>1.00</td>\n",
              "      <td>0.75</td>\n",
              "      <td>0.75</td>\n",
              "      <td>1.00</td>\n",
              "      <td>1</td>\n",
              "    </tr>\n",
              "    <tr>\n",
              "      <th>249599</th>\n",
              "      <td>1.00</td>\n",
              "      <td>110.0</td>\n",
              "      <td>0.00</td>\n",
              "      <td>1.00</td>\n",
              "      <td>0.00</td>\n",
              "      <td>1.00</td>\n",
              "      <td>0.75</td>\n",
              "      <td>1.00</td>\n",
              "      <td>0.00</td>\n",
              "      <td>1.0</td>\n",
              "      <td>...</td>\n",
              "      <td>0.00</td>\n",
              "      <td>0.75</td>\n",
              "      <td>1.00</td>\n",
              "      <td>1.00</td>\n",
              "      <td>0.00</td>\n",
              "      <td>0.25</td>\n",
              "      <td>0.75</td>\n",
              "      <td>0.00</td>\n",
              "      <td>0.50</td>\n",
              "      <td>9</td>\n",
              "    </tr>\n",
              "  </tbody>\n",
              "</table>\n",
              "<p>249600 rows × 21 columns</p>\n",
              "</div>\n",
              "    <div class=\"colab-df-buttons\">\n",
              "\n",
              "  <div class=\"colab-df-container\">\n",
              "    <button class=\"colab-df-convert\" onclick=\"convertToInteractive('df-36e7a946-1384-45db-906d-ecb485f4a1bc')\"\n",
              "            title=\"Convert this dataframe to an interactive table.\"\n",
              "            style=\"display:none;\">\n",
              "\n",
              "  <svg xmlns=\"http://www.w3.org/2000/svg\" height=\"24px\" viewBox=\"0 -960 960 960\">\n",
              "    <path d=\"M120-120v-720h720v720H120Zm60-500h600v-160H180v160Zm220 220h160v-160H400v160Zm0 220h160v-160H400v160ZM180-400h160v-160H180v160Zm440 0h160v-160H620v160ZM180-180h160v-160H180v160Zm440 0h160v-160H620v160Z\"/>\n",
              "  </svg>\n",
              "    </button>\n",
              "\n",
              "  <style>\n",
              "    .colab-df-container {\n",
              "      display:flex;\n",
              "      gap: 12px;\n",
              "    }\n",
              "\n",
              "    .colab-df-convert {\n",
              "      background-color: #E8F0FE;\n",
              "      border: none;\n",
              "      border-radius: 50%;\n",
              "      cursor: pointer;\n",
              "      display: none;\n",
              "      fill: #1967D2;\n",
              "      height: 32px;\n",
              "      padding: 0 0 0 0;\n",
              "      width: 32px;\n",
              "    }\n",
              "\n",
              "    .colab-df-convert:hover {\n",
              "      background-color: #E2EBFA;\n",
              "      box-shadow: 0px 1px 2px rgba(60, 64, 67, 0.3), 0px 1px 3px 1px rgba(60, 64, 67, 0.15);\n",
              "      fill: #174EA6;\n",
              "    }\n",
              "\n",
              "    .colab-df-buttons div {\n",
              "      margin-bottom: 4px;\n",
              "    }\n",
              "\n",
              "    [theme=dark] .colab-df-convert {\n",
              "      background-color: #3B4455;\n",
              "      fill: #D2E3FC;\n",
              "    }\n",
              "\n",
              "    [theme=dark] .colab-df-convert:hover {\n",
              "      background-color: #434B5C;\n",
              "      box-shadow: 0px 1px 3px 1px rgba(0, 0, 0, 0.15);\n",
              "      filter: drop-shadow(0px 1px 2px rgba(0, 0, 0, 0.3));\n",
              "      fill: #FFFFFF;\n",
              "    }\n",
              "  </style>\n",
              "\n",
              "    <script>\n",
              "      const buttonEl =\n",
              "        document.querySelector('#df-36e7a946-1384-45db-906d-ecb485f4a1bc button.colab-df-convert');\n",
              "      buttonEl.style.display =\n",
              "        google.colab.kernel.accessAllowed ? 'block' : 'none';\n",
              "\n",
              "      async function convertToInteractive(key) {\n",
              "        const element = document.querySelector('#df-36e7a946-1384-45db-906d-ecb485f4a1bc');\n",
              "        const dataTable =\n",
              "          await google.colab.kernel.invokeFunction('convertToInteractive',\n",
              "                                                    [key], {});\n",
              "        if (!dataTable) return;\n",
              "\n",
              "        const docLinkHtml = 'Like what you see? Visit the ' +\n",
              "          '<a target=\"_blank\" href=https://colab.research.google.com/notebooks/data_table.ipynb>data table notebook</a>'\n",
              "          + ' to learn more about interactive tables.';\n",
              "        element.innerHTML = '';\n",
              "        dataTable['output_type'] = 'display_data';\n",
              "        await google.colab.output.renderOutput(dataTable, element);\n",
              "        const docLink = document.createElement('div');\n",
              "        docLink.innerHTML = docLinkHtml;\n",
              "        element.appendChild(docLink);\n",
              "      }\n",
              "    </script>\n",
              "  </div>\n",
              "\n",
              "\n",
              "<div id=\"df-1f95aeb4-bfa4-432c-ba78-4291ac5ecfa8\">\n",
              "  <button class=\"colab-df-quickchart\" onclick=\"quickchart('df-1f95aeb4-bfa4-432c-ba78-4291ac5ecfa8')\"\n",
              "            title=\"Suggest charts\"\n",
              "            style=\"display:none;\">\n",
              "\n",
              "<svg xmlns=\"http://www.w3.org/2000/svg\" height=\"24px\"viewBox=\"0 0 24 24\"\n",
              "     width=\"24px\">\n",
              "    <g>\n",
              "        <path d=\"M19 3H5c-1.1 0-2 .9-2 2v14c0 1.1.9 2 2 2h14c1.1 0 2-.9 2-2V5c0-1.1-.9-2-2-2zM9 17H7v-7h2v7zm4 0h-2V7h2v10zm4 0h-2v-4h2v4z\"/>\n",
              "    </g>\n",
              "</svg>\n",
              "  </button>\n",
              "\n",
              "<style>\n",
              "  .colab-df-quickchart {\n",
              "      --bg-color: #E8F0FE;\n",
              "      --fill-color: #1967D2;\n",
              "      --hover-bg-color: #E2EBFA;\n",
              "      --hover-fill-color: #174EA6;\n",
              "      --disabled-fill-color: #AAA;\n",
              "      --disabled-bg-color: #DDD;\n",
              "  }\n",
              "\n",
              "  [theme=dark] .colab-df-quickchart {\n",
              "      --bg-color: #3B4455;\n",
              "      --fill-color: #D2E3FC;\n",
              "      --hover-bg-color: #434B5C;\n",
              "      --hover-fill-color: #FFFFFF;\n",
              "      --disabled-bg-color: #3B4455;\n",
              "      --disabled-fill-color: #666;\n",
              "  }\n",
              "\n",
              "  .colab-df-quickchart {\n",
              "    background-color: var(--bg-color);\n",
              "    border: none;\n",
              "    border-radius: 50%;\n",
              "    cursor: pointer;\n",
              "    display: none;\n",
              "    fill: var(--fill-color);\n",
              "    height: 32px;\n",
              "    padding: 0;\n",
              "    width: 32px;\n",
              "  }\n",
              "\n",
              "  .colab-df-quickchart:hover {\n",
              "    background-color: var(--hover-bg-color);\n",
              "    box-shadow: 0 1px 2px rgba(60, 64, 67, 0.3), 0 1px 3px 1px rgba(60, 64, 67, 0.15);\n",
              "    fill: var(--button-hover-fill-color);\n",
              "  }\n",
              "\n",
              "  .colab-df-quickchart-complete:disabled,\n",
              "  .colab-df-quickchart-complete:disabled:hover {\n",
              "    background-color: var(--disabled-bg-color);\n",
              "    fill: var(--disabled-fill-color);\n",
              "    box-shadow: none;\n",
              "  }\n",
              "\n",
              "  .colab-df-spinner {\n",
              "    border: 2px solid var(--fill-color);\n",
              "    border-color: transparent;\n",
              "    border-bottom-color: var(--fill-color);\n",
              "    animation:\n",
              "      spin 1s steps(1) infinite;\n",
              "  }\n",
              "\n",
              "  @keyframes spin {\n",
              "    0% {\n",
              "      border-color: transparent;\n",
              "      border-bottom-color: var(--fill-color);\n",
              "      border-left-color: var(--fill-color);\n",
              "    }\n",
              "    20% {\n",
              "      border-color: transparent;\n",
              "      border-left-color: var(--fill-color);\n",
              "      border-top-color: var(--fill-color);\n",
              "    }\n",
              "    30% {\n",
              "      border-color: transparent;\n",
              "      border-left-color: var(--fill-color);\n",
              "      border-top-color: var(--fill-color);\n",
              "      border-right-color: var(--fill-color);\n",
              "    }\n",
              "    40% {\n",
              "      border-color: transparent;\n",
              "      border-right-color: var(--fill-color);\n",
              "      border-top-color: var(--fill-color);\n",
              "    }\n",
              "    60% {\n",
              "      border-color: transparent;\n",
              "      border-right-color: var(--fill-color);\n",
              "    }\n",
              "    80% {\n",
              "      border-color: transparent;\n",
              "      border-right-color: var(--fill-color);\n",
              "      border-bottom-color: var(--fill-color);\n",
              "    }\n",
              "    90% {\n",
              "      border-color: transparent;\n",
              "      border-bottom-color: var(--fill-color);\n",
              "    }\n",
              "  }\n",
              "</style>\n",
              "\n",
              "  <script>\n",
              "    async function quickchart(key) {\n",
              "      const quickchartButtonEl =\n",
              "        document.querySelector('#' + key + ' button');\n",
              "      quickchartButtonEl.disabled = true;  // To prevent multiple clicks.\n",
              "      quickchartButtonEl.classList.add('colab-df-spinner');\n",
              "      try {\n",
              "        const charts = await google.colab.kernel.invokeFunction(\n",
              "            'suggestCharts', [key], {});\n",
              "      } catch (error) {\n",
              "        console.error('Error during call to suggestCharts:', error);\n",
              "      }\n",
              "      quickchartButtonEl.classList.remove('colab-df-spinner');\n",
              "      quickchartButtonEl.classList.add('colab-df-quickchart-complete');\n",
              "    }\n",
              "    (() => {\n",
              "      let quickchartButtonEl =\n",
              "        document.querySelector('#df-1f95aeb4-bfa4-432c-ba78-4291ac5ecfa8 button');\n",
              "      quickchartButtonEl.style.display =\n",
              "        google.colab.kernel.accessAllowed ? 'block' : 'none';\n",
              "    })();\n",
              "  </script>\n",
              "</div>\n",
              "    </div>\n",
              "  </div>\n"
            ],
            "text/plain": [
              "           0      1     2     3     4     5     6     7     8    9  ...    11  \\\n",
              "0       1.00  138.0  0.25  1.00  0.50  0.75  1.00  1.00  0.75  1.0  ...  0.75   \n",
              "1       1.00  109.0  0.00  1.00  1.00  0.00  0.50  1.00  0.25  1.0  ...  0.00   \n",
              "2       0.00  135.0  0.00  0.00  0.00  1.00  1.00  0.00  0.50  0.0  ...  0.25   \n",
              "3       0.25   89.0  0.75  0.25  0.75  0.00  0.25  0.00  0.00  0.0  ...  0.75   \n",
              "4       0.00   79.0  0.00  0.25  0.00  0.75  0.25  0.00  0.25  0.0  ...  0.25   \n",
              "...      ...    ...   ...   ...   ...   ...   ...   ...   ...  ...  ...   ...   \n",
              "249595  0.00  119.0  0.75  0.00  0.00  0.75  0.25  0.00  1.00  0.0  ...  1.00   \n",
              "249596  1.00  107.0  0.50  0.75  0.25  1.00  0.75  1.00  1.00  1.0  ...  0.50   \n",
              "249597  0.00  127.0  0.00  0.25  0.00  0.50  0.25  0.25  0.00  0.0  ...  0.25   \n",
              "249598  0.75  103.0  0.00  1.00  0.50  1.00  0.75  1.00  0.25  1.0  ...  0.00   \n",
              "249599  1.00  110.0  0.00  1.00  0.00  1.00  0.75  1.00  0.00  1.0  ...  0.00   \n",
              "\n",
              "          12    13    14    15    16    17    18    19  target  \n",
              "0       0.25  1.00  1.00  0.75  0.50  0.75  1.00  0.25       4  \n",
              "1       1.00  0.75  1.00  0.00  0.50  0.00  0.00  0.00       1  \n",
              "2       0.00  0.00  0.00  1.00  0.25  1.00  0.50  0.00      11  \n",
              "3       0.25  0.00  0.00  0.25  0.25  0.50  0.25  1.00       0  \n",
              "4       1.00  0.00  0.00  0.00  0.25  0.25  0.25  1.00       1  \n",
              "...      ...   ...   ...   ...   ...   ...   ...   ...     ...  \n",
              "249595  0.25  0.00  0.00  0.75  0.00  0.50  0.75  0.00      11  \n",
              "249596  0.00  1.00  1.00  1.00  0.75  0.25  0.75  1.00       9  \n",
              "249597  0.75  0.00  0.25  0.00  0.50  0.75  0.50  0.25       7  \n",
              "249598  0.75  1.00  1.00  0.75  1.00  0.75  0.75  1.00       1  \n",
              "249599  0.75  1.00  1.00  0.00  0.25  0.75  0.00  0.50       9  \n",
              "\n",
              "[249600 rows x 21 columns]"
            ]
          },
          "execution_count": 33,
          "metadata": {},
          "output_type": "execute_result"
        }
      ],
      "source": [
        "X_selected_df"
      ]
    },
    {
      "cell_type": "code",
      "execution_count": 34,
      "metadata": {
        "id": "GwU091nG2Ftd"
      },
      "outputs": [],
      "source": [
        "df_train=X_selected_df.iloc[0:(len(X)*7)//10]\n",
        "df_test = X_selected_df.iloc[(len(X)*7)//10:]\n",
        "x_train=df_train.iloc[:,:-1].values\n",
        "y_train=df_train.iloc[:,-1].values\n",
        "x_test=df_test.iloc[:,:-1].values\n",
        "y_test=df_test.iloc[:,-1].values"
      ]
    },
    {
      "cell_type": "code",
      "execution_count": 35,
      "metadata": {
        "colab": {
          "base_uri": "https://localhost:8080/",
          "height": 445
        },
        "id": "c7NzYnLo0Vzf",
        "outputId": "690cd8e3-3692-4752-98cf-6f3a40125bc0"
      },
      "outputs": [
        {
          "name": "stdout",
          "output_type": "stream",
          "text": [
            "Epoch   19 Loss: 1.36202e+00 Accuracy: 0.50163 Epoch Time: 14.58472\n"
          ]
        },
        {
          "data": {
            "image/png": "[encoded data removed]",
            "text/plain": [
              "<Figure size 640x480 with 1 Axes>"
            ]
          },
          "metadata": {},
          "output_type": "display_data"
        }
      ],
      "source": [
        "ds_train=MyDS(x_train,y_train)\n",
        "net=MLP(dims=[20,64,32,12])\n",
        "ds_test=MyDS(x_test,y_test)\n",
        "dloader=torch.utils.data.DataLoader(dataset=ds_train,batch_size=32,shuffle=True)\n",
        "net,losses,accs=Train(net,dloader,epochs=20,verbose=True,plot_accs=True,val_ds=ds_test)"
      ]
    },
    {
      "cell_type": "code",
      "execution_count": 36,
      "metadata": {
        "colab": {
          "base_uri": "https://localhost:8080/"
        },
        "id": "En4NIs3g0bJ8",
        "outputId": "1ed305b3-312c-483a-a32b-74c3c4e20f46"
      },
      "outputs": [
        {
          "name": "stdout",
          "output_type": "stream",
          "text": [
            "88297.0 174720\n"
          ]
        },
        {
          "data": {
            "text/plain": [
              "0.5053628663003663"
            ]
          },
          "execution_count": 36,
          "metadata": {},
          "output_type": "execute_result"
        }
      ],
      "source": [
        "ds_test=MyDS(x_test,y_test)\n",
        "accuracy(net,ds_train.samples,ds_train.labels)"
      ]
    },
    {
      "cell_type": "markdown",
      "metadata": {
        "id": "ZF-pJrT88p5R"
      },
      "source": [
        "### Using bagging"
      ]
    },
    {
      "cell_type": "code",
      "execution_count": 37,
      "metadata": {
        "id": "MRA6dg2t1STW"
      },
      "outputs": [],
      "source": [
        "from sklearn.ensemble import BaggingClassifier\n",
        "from sklearn.tree import DecisionTreeClassifier\n",
        "import numpy as np\n",
        "\n",
        "bagging_model = BaggingClassifier(DecisionTreeClassifier(), n_estimators=100, random_state=0)\n",
        "bagging_model.fit(X, y)\n",
        "importances = np.mean([tree.feature_importances_ for tree in bagging_model.estimators_], axis=0)\n",
        "indices = np.argsort(importances)[::-1]\n",
        "n_top_features = int(0.8 * len(indices))\n",
        "top_feature_indices = indices[:n_top_features]\n",
        "X_selected = X[:, top_feature_indices]"
      ]
    },
    {
      "cell_type": "code",
      "execution_count": 38,
      "metadata": {
        "id": "8KyyuXAbAwbq"
      },
      "outputs": [],
      "source": [
        "X_selected_df = pd.DataFrame(X_selected)\n",
        "X_selected_df['target'] = y"
      ]
    },
    {
      "cell_type": "code",
      "execution_count": 39,
      "metadata": {
        "id": "1xgef0OuC5vc"
      },
      "outputs": [],
      "source": [
        "df_train=X_selected_df.iloc[0:(len(X)*7)//10]\n",
        "df_test = X_selected_df.iloc[(len(X)*7)//10:]\n",
        "x_train=df_train.iloc[:,:-1].values\n",
        "y_train=df_train.iloc[:,-1].values\n",
        "x_test=df_test.iloc[:,:-1].values\n",
        "y_test=df_test.iloc[:,-1].values"
      ]
    },
    {
      "cell_type": "code",
      "execution_count": 40,
      "metadata": {
        "colab": {
          "base_uri": "https://localhost:8080/",
          "height": 445
        },
        "id": "1hudrUtZC_vV",
        "outputId": "cb0d2003-16c7-42aa-e174-571895a53755"
      },
      "outputs": [
        {
          "name": "stdout",
          "output_type": "stream",
          "text": [
            "Epoch   19 Loss: 1.42140e+00 Accuracy: 0.47748 Epoch Time: 14.56430\n"
          ]
        },
        {
          "data": {
            "image/png": "[encoded data removed]",
            "text/plain": [
              "<Figure size 640x480 with 1 Axes>"
            ]
          },
          "metadata": {},
          "output_type": "display_data"
        }
      ],
      "source": [
        "ds_train=MyDS(x_train,y_train)\n",
        "net=MLP(dims=[20,64,32,12])\n",
        "ds_test=MyDS(x_test,y_test)\n",
        "dloader=torch.utils.data.DataLoader(dataset=ds_train,batch_size=32,shuffle=True)\n",
        "net,losses,accs=Train(net,dloader,epochs=20,verbose=True,plot_accs=True,val_ds=ds_test)"
      ]
    },
    {
      "cell_type": "code",
      "execution_count": 41,
      "metadata": {
        "colab": {
          "base_uri": "https://localhost:8080/"
        },
        "id": "XbFCR_2QDBAF",
        "outputId": "8ef0f3cc-8a12-4019-cdbf-1b490950d16b"
      },
      "outputs": [
        {
          "name": "stdout",
          "output_type": "stream",
          "text": [
            "83314.0 174720\n"
          ]
        },
        {
          "data": {
            "text/plain": [
              "0.47684294871794874"
            ]
          },
          "execution_count": 41,
          "metadata": {},
          "output_type": "execute_result"
        }
      ],
      "source": [
        "ds_test=MyDS(x_test,y_test)\n",
        "accuracy(net,ds_train.samples,ds_train.labels)"
      ]
    },
    {
      "cell_type": "markdown",
      "metadata": {
        "id": "kpBp9JfCFU0u"
      },
      "source": [
        "### Bagging + multiple MLPs"
      ]
    },
    {
      "cell_type": "code",
      "execution_count": 42,
      "metadata": {
        "colab": {
          "base_uri": "https://localhost:8080/"
        },
        "id": "T6VEoouoDC_U",
        "outputId": "482b2ad2-2269-4a27-d7c8-d6e1bc73e706"
      },
      "outputs": [
        {
          "name": "stdout",
          "output_type": "stream",
          "text": [
            "Ensemble Accuracy: 0.49727564102564104\n"
          ]
        }
      ],
      "source": [
        "import torch\n",
        "from sklearn.metrics import accuracy_score\n",
        "import numpy as np\n",
        "n_mlps = 5\n",
        "mlps = []\n",
        "predictions = []\n",
        "for i in range(n_mlps):\n",
        "    mlp = MLP(dims=[20, 64, 32, 12])\n",
        "    mlp, _, _ = Train(mlp, dloader, epochs=20, verbose=False)\n",
        "    mlps.append(mlp)\n",
        "    y_pred = mlp(torch.tensor(x_test, dtype=torch.float)).detach().numpy()\n",
        "    predictions.append(y_pred)\n",
        "mean_predictions = np.mean(predictions, axis=0)\n",
        "final_predictions = np.argmax(mean_predictions, axis=1)\n",
        "ensemble_accuracy = accuracy_score(y_test, final_predictions)\n",
        "print(f\"Ensemble Accuracy: {ensemble_accuracy}\")"
      ]
    },
    {
      "cell_type": "code",
      "execution_count": null,
      "metadata": {
        "id": "h1YqcpzO11FB"
      },
      "outputs": [],
      "source": []
    }
  ],
  "metadata": {
    "accelerator": "TPU",
    "colab": {
      "provenance": []
    },
    "kernelspec": {
      "display_name": "Python 3",
      "name": "python3"
    },
    "language_info": {
      "name": "python",
      "version": "3.9.15"
    }
  },
  "nbformat": 4,
  "nbformat_minor": 0
}
