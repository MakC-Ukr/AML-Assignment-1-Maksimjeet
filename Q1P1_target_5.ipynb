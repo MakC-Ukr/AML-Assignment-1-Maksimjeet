{
  "cells": [
    {
      "cell_type": "code",
      "execution_count": 14,
      "metadata": {
        "colab": {
          "base_uri": "https://localhost:8080/",
          "height": 34
        },
        "id": "9NovTYG2qlBR",
        "outputId": "70f0f483-eda9-4ea0-aa4d-1c1cb4164ed4"
      },
      "outputs": [
        {
          "data": {
            "text/plain": [
              "'/Users/maksimchowdhary/Desktop/SubTab'"
            ]
          },
          "execution_count": 14,
          "metadata": {},
          "output_type": "execute_result"
        }
      ],
      "source": [
        "%pwd"
      ]
    },
    {
      "cell_type": "code",
      "execution_count": 15,
      "metadata": {
        "colab": {
          "base_uri": "https://localhost:8080/",
          "height": 34
        },
        "id": "e9JCBobmrZDq",
        "outputId": "44d13918-2920-4484-dc12-b1160b3509f8"
      },
      "outputs": [
        {
          "data": {
            "text/plain": [
              "'/Users/maksimchowdhary/Desktop/SubTab'"
            ]
          },
          "execution_count": 15,
          "metadata": {},
          "output_type": "execute_result"
        }
      ],
      "source": [
        "%pwd"
      ]
    },
    {
      "cell_type": "markdown",
      "metadata": {
        "id": "71LJ9dfAriwg"
      },
      "source": [
        "### Imports"
      ]
    },
    {
      "cell_type": "code",
      "execution_count": 16,
      "metadata": {
        "id": "d6oBQLNVf83l"
      },
      "outputs": [],
      "source": [
        "import requests\n",
        "import pandas as pd\n",
        "import torch\n",
        "import torch\n",
        "import random\n",
        "import math, time, os\n",
        "import pandas as pd\n",
        "from matplotlib import pyplot as plt\n",
        "from pyarrow.parquet import ParquetFile\n",
        "import pyarrow as pa\n",
        "import numpy as np\n",
        "import numpy as np\n",
        "import torch\n",
        "from torch import nn\n",
        "from torch import optim\n",
        "from IPython import display\n",
        "import psutil, gc\n",
        "# utils.hide_toggle('Imports 2')\n",
        "from torch.utils.data import Dataset\n",
        "import sklearn.datasets as skds\n",
        "from sklearn.model_selection import train_test_split\n",
        "from torch.utils.data import DataLoader\n",
        "import math\n",
        "from numpy import sin, pi\n",
        "from matplotlib import pyplot as plt\n",
        "from torchvision.datasets import MNIST\n",
        "import pathlib\n",
        "from PIL import Image\n",
        "from PIL.ImageOps import invert\n",
        "from IPython import display\n",
        "from time import sleep\n",
        "import pickle\n",
        "from matplotlib import pyplot as plt"
      ]
    },
    {
      "cell_type": "code",
      "execution_count": 17,
      "metadata": {
        "id": "VBZXrspdrmwv"
      },
      "outputs": [],
      "source": [
        "def hide_toggle(x):\n",
        "    return\n",
        "class MyDS(Dataset):\n",
        "    def __init__(self, X,y,task='classification'):\n",
        "        self.samples = torch.Tensor(X)\n",
        "        if task=='classification': self.labels = torch.LongTensor(y)\n",
        "        elif task=='regression': self.labels = torch.Tensor(y)\n",
        "\n",
        "    def __len__(self):\n",
        "        return len(self.samples)\n",
        "\n",
        "    def __getitem__(self, idx):\n",
        "        return (self.samples[idx],self.labels[idx])\n",
        "#hide_toggle('Class MyDS')\n",
        "\n",
        "def euclideanDataset(n_samples=1000,n_classes=2,class_sep=2.0,n_features=5,batch_size=1,\n",
        "                     n_clusters_per_class=1):\n",
        "    X,y = skds.make_classification(n_samples=n_samples,n_classes=n_classes,\n",
        "                                   class_sep=class_sep,n_features=n_features,\n",
        "                                 n_informative=n_features,n_redundant=0,\n",
        "                                 n_repeated=0,n_clusters_per_class=n_clusters_per_class)\n",
        "    X_train,X_test,y_train,y_test = train_test_split(X,y)\n",
        "    ds = MyDS(X_train,y_train)\n",
        "    ds_hold = MyDS(X_test,y_test)\n",
        "    dsloader = torch.utils.data.DataLoader(dataset=ds,batch_size=batch_size,shuffle=True)\n",
        "    return ds,ds_hold,dsloader\n",
        "#hide_toggle('Function euclideanDataset')"
      ]
    },
    {
      "cell_type": "code",
      "execution_count": 18,
      "metadata": {
        "id": "FPzcc8a3r6UU"
      },
      "outputs": [],
      "source": [
        "import psutil\n",
        "def get_memory_usage():\n",
        "    mem = psutil.virtual_memory()\n",
        "    return f'{mem.used / 1024 ** 3} of {mem.total / 1024 ** 3}; {mem.available / 1024 ** 3} available'"
      ]
    },
    {
      "cell_type": "code",
      "execution_count": 19,
      "metadata": {
        "id": "dsqjeZ_2r7fT"
      },
      "outputs": [],
      "source": [
        "def accuracy(Net,X_test,y_test,verbose=True):\n",
        "    Net.eval()\n",
        "    m = X_test.shape[0]\n",
        "    y_pred = Net(X_test)\n",
        "    predicted = torch.max(y_pred, 1)[1]\n",
        "    correct = (predicted == y_test).float().sum().item()\n",
        "    if verbose: print(correct,m)\n",
        "    accuracy = correct/m\n",
        "    Net.train()\n",
        "    return accuracy\n",
        "def accuracy_variable(Net,data):\n",
        "    step=0\n",
        "    acc=0\n",
        "    for (X,y) in data:\n",
        "            y_pred = Net(X)\n",
        "            step+=1\n",
        "            acc+=accuracy(Net,X,y,verbose=False)\n",
        "    a = acc/step\n",
        "    return a\n",
        "def TrainVals(Net,X_vals,y_vals,epochs=20,lr=5e-2,Loss=nn.NLLLoss(),verbose=False,device='cpu',batch_size=32):\n",
        "    #optimizer = optim.Adam(Net.parameters(),lr=lr)\n",
        "    losses = []\n",
        "    accs = []\n",
        "    Net.to(device)\n",
        "    N=X_vals.shape[0]\n",
        "    n_batches=int(N/batch_size)\n",
        "    for e in range(epochs):\n",
        "        step=0\n",
        "        tot_loss=0.0\n",
        "        start_time = time.time()\n",
        "        acc=0.0\n",
        "        for idx in range(0,N,n_batches):\n",
        "            if idx+32>1000: start,end=idx,N\n",
        "            else: start,end=idx,idx+batch_size\n",
        "            X,y=torch.tensor(X_vals[start:end],dtype=torch.float32),torch.tensor(y_vals[start:end],dtype=torch.int64)\n",
        "            X=X.to(device)\n",
        "            y=y.to(device)\n",
        "            y_pred = Net(X)\n",
        "            loss = Loss(y_pred,y)\n",
        "            Net.optimizer.zero_grad()\n",
        "            loss.backward()\n",
        "            Net.optimizer.step()\n",
        "            step+=1\n",
        "            tot_loss+=loss\n",
        "            if verbose: acc+=accuracy(Net,X,y,verbose=False)\n",
        "        end_time = time.time()\n",
        "        t = end_time-start_time\n",
        "        l = tot_loss.item()/step\n",
        "        if verbose:\n",
        "            a = acc/step\n",
        "            accs += [a]\n",
        "        losses += [l]\n",
        "        if verbose:\n",
        "            print('Epoch  % 2d Loss: %2.5e Accuracy: %2.5f Epoch Time: %2.5f' %(e,l,a,t))\n",
        "            print(get_memory_usage())\n",
        "            gc.collect()\n",
        "            display.clear_output(wait=True)\n",
        "    return Net,losses,accs\n",
        "# utils.hide_toggle('Function Train')"
      ]
    },
    {
      "cell_type": "code",
      "execution_count": 20,
      "metadata": {
        "id": "KXw-qNfMsAdy"
      },
      "outputs": [],
      "source": [
        "class MLP(nn.Module):\n",
        "    def __init__(self,dims=[5,3,2],task='classification',lr=1e-3,weight_decay=0):\n",
        "        super(MLP,self).__init__()\n",
        "        self.dims=dims\n",
        "        self.n = len(self.dims)-1\n",
        "        self.task=task\n",
        "        self.layers=nn.ModuleList()\n",
        "        for i in range(self.n-1):\n",
        "            self.layers.append(nn.Linear(dims[i],dims[i+1]))\n",
        "            self.layers.append(nn.ReLU())\n",
        "        if task=='classification':\n",
        "            self.layers.append(nn.Linear(dims[i+1],dims[i+2]))\n",
        "            self.layers.append(nn.LogSoftmax(dim=1))\n",
        "        elif task=='regression':\n",
        "            self.layers.append(nn.Linear(dims[i+1],dims[i+2]))\n",
        "            self.layers.append(nn.Linear(dims[i+2],1))\n",
        "        else: self.layers.append(nn.Linear(dims[i+1],dims[i+2]))\n",
        "        self.optimizer = optim.Adam(self.parameters(),lr=lr,weight_decay=weight_decay)\n",
        "    def forward(self,x):\n",
        "        for l in self.layers:\n",
        "            x = l(x)\n",
        "        return(x)\n",
        "# utils.hide_toggle('Class MLP')"
      ]
    },
    {
      "cell_type": "code",
      "execution_count": 21,
      "metadata": {
        "id": "t6SpbeB_sFA9"
      },
      "outputs": [],
      "source": [
        "class SimpleRNN(nn.Module):\n",
        "    def __init__(self, input_size, hidden_size, output_size,lr):\n",
        "        # This just calls the base class constructor\n",
        "        super().__init__()\n",
        "        # Neural network layers assigned as attributes of a Module subclass\n",
        "        # have their parameters registered for training automatically.\n",
        "        self.input_size=input_size\n",
        "        self.rnn = torch.nn.RNN(input_size, hidden_size, nonlinearity='relu', batch_first=True)\n",
        "        self.linear = torch.nn.Linear(hidden_size, output_size)\n",
        "        self.logsoft = nn.LogSoftmax(dim=-1)\n",
        "        self.optimizer = optim.Adam(self.parameters(),lr=lr)\n",
        "    def forward(self, x):\n",
        "        # The RNN also returns its hidden state but we don't use it.\n",
        "        # While the RNN can also take a hidden state as input, the RNN\n",
        "        # gets passed a hidden state initialized with zeros by default.\n",
        "        if self.input_size==1: x=x.unsqueeze(-1)\n",
        "        h = self.rnn(x)[0]\n",
        "        x = self.linear(h)\n",
        "        x = self.logsoft(x)\n",
        "        x=x[:,-1,:]\n",
        "        return x"
      ]
    },
    {
      "cell_type": "code",
      "execution_count": 22,
      "metadata": {
        "id": "j74qp2ahtos4"
      },
      "outputs": [],
      "source": [
        "def Train(Net,data,epochs=20,lr=5e-2,Loss=nn.NLLLoss(),verbose=False,device='cpu',\n",
        "          val_ds=None,plot_accs=False,plot_losses=False):\n",
        "    #optimizer = optim.Adam(Net.parameters(),lr=lr)\n",
        "    losses = []\n",
        "    val_losses=[]\n",
        "    accs = []\n",
        "    val_accL=[]\n",
        "    Net.to(device)\n",
        "    for e in range(epochs):\n",
        "        step=0\n",
        "        tot_loss=0.0\n",
        "        start_time = time.time()\n",
        "        acc=0.0\n",
        "        for (X,y) in data:\n",
        "            X=X.to(device)\n",
        "            y=y.to(device)\n",
        "            y_pred = Net(X)\n",
        "            loss = Loss(y_pred,y)\n",
        "            Net.optimizer.zero_grad()\n",
        "            loss.backward()\n",
        "            Net.optimizer.step()\n",
        "            step+=1\n",
        "            tot_loss+=loss\n",
        "            if verbose: acc+=accuracy(Net,X,y,verbose=False)\n",
        "        end_time = time.time()\n",
        "        t = end_time-start_time\n",
        "        l = tot_loss.item()/step\n",
        "        if verbose:\n",
        "            a = acc/step\n",
        "            accs += [a]\n",
        "        losses += [l]\n",
        "        if verbose:\n",
        "            display.clear_output(wait=True)\n",
        "            print('Epoch  % 2d Loss: %2.5e Accuracy: %2.5f Epoch Time: %2.5f' %(e,l,a,t))\n",
        "        if plot_accs and val_ds is not None:\n",
        "            val_accL+=[accuracy(Net,val_ds.samples,val_ds.labels,verbose=False)]\n",
        "            plt.plot(np.array(val_accL),color='red')\n",
        "            plt.plot(np.array(accs),color='blue')\n",
        "            plt.show()\n",
        "        if plot_losses and val_ds is not None:\n",
        "            val_losses+=[Loss(Net(torch.tensor(val_ds.samples)),torch.tensor(val_ds.labels)).detach().numpy()]\n",
        "            plt.plot(val_losses,color='red')\n",
        "            plt.plot(losses,color='blue')\n",
        "            plt.show()\n",
        "    return Net,losses,accs"
      ]
    },
    {
      "cell_type": "markdown",
      "metadata": {
        "id": "3vbGI_hQrnSm"
      },
      "source": [
        "### Data imports and reads"
      ]
    },
    {
      "cell_type": "code",
      "execution_count": 23,
      "metadata": {
        "id": "TFLwudEitDmr"
      },
      "outputs": [],
      "source": [
        "df = pd.read_csv('df_synA_train_shuffled.csv',on_bad_lines='skip')\n",
        "df = df.dropna()"
      ]
    },
    {
      "cell_type": "code",
      "execution_count": 24,
      "metadata": {
        "colab": {
          "base_uri": "https://localhost:8080/"
        },
        "id": "1R6b3pCeg_7o",
        "outputId": "f503707e-5387-45e3-edd0-55f2f12dc31c"
      },
      "outputs": [
        {
          "data": {
            "text/plain": [
              "[0.0, 0.25, 0.75, 0.5, 1.0]"
            ]
          },
          "execution_count": 24,
          "metadata": {},
          "output_type": "execute_result"
        }
      ],
      "source": [
        "class_values=list(df.target_5_val.unique())\n",
        "class_values"
      ]
    },
    {
      "cell_type": "code",
      "execution_count": 25,
      "metadata": {
        "id": "JA13vruaj48k"
      },
      "outputs": [],
      "source": [
        "def encode(v,class_values=class_values):\n",
        "    return class_values.index(v)"
      ]
    },
    {
      "cell_type": "code",
      "execution_count": 26,
      "metadata": {
        "colab": {
          "base_uri": "https://localhost:8080/",
          "height": 448
        },
        "id": "qTzyg4mqkV-n",
        "outputId": "444ff6f3-297c-499a-f868-b4bb5857676e"
      },
      "outputs": [
        {
          "data": {
            "text/html": [
              "<div>\n",
              "<style scoped>\n",
              "    .dataframe tbody tr th:only-of-type {\n",
              "        vertical-align: middle;\n",
              "    }\n",
              "\n",
              "    .dataframe tbody tr th {\n",
              "        vertical-align: top;\n",
              "    }\n",
              "\n",
              "    .dataframe thead th {\n",
              "        text-align: right;\n",
              "    }\n",
              "</style>\n",
              "<table border=\"1\" class=\"dataframe\">\n",
              "  <thead>\n",
              "    <tr style=\"text-align: right;\">\n",
              "      <th></th>\n",
              "      <th>Open_n_val</th>\n",
              "      <th>High_n_val</th>\n",
              "      <th>Low_n_val</th>\n",
              "      <th>Close_n_val</th>\n",
              "      <th>Volume_n_val</th>\n",
              "      <th>SMA_10_val</th>\n",
              "      <th>SMA_20_val</th>\n",
              "      <th>CMO_14_val</th>\n",
              "      <th>High_n-Low_n_val</th>\n",
              "      <th>Open_n-Close_n_val</th>\n",
              "      <th>...</th>\n",
              "      <th>Close_n_slope_3_changelen_val</th>\n",
              "      <th>Close_n_slope_5_changelen_val</th>\n",
              "      <th>Close_n_slope_10_changelen_val</th>\n",
              "      <th>row_num</th>\n",
              "      <th>day</th>\n",
              "      <th>era</th>\n",
              "      <th>target_10_val</th>\n",
              "      <th>target_5_val</th>\n",
              "      <th>data_type</th>\n",
              "      <th>era_label</th>\n",
              "    </tr>\n",
              "  </thead>\n",
              "  <tbody>\n",
              "    <tr>\n",
              "      <th>141390</th>\n",
              "      <td>1.00</td>\n",
              "      <td>1.00</td>\n",
              "      <td>1.00</td>\n",
              "      <td>1.00</td>\n",
              "      <td>0.0</td>\n",
              "      <td>1.00</td>\n",
              "      <td>1.00</td>\n",
              "      <td>1.00</td>\n",
              "      <td>0.00</td>\n",
              "      <td>0.50</td>\n",
              "      <td>...</td>\n",
              "      <td>1.00</td>\n",
              "      <td>0.75</td>\n",
              "      <td>1.00</td>\n",
              "      <td>121</td>\n",
              "      <td>438</td>\n",
              "      <td>7</td>\n",
              "      <td>0.00</td>\n",
              "      <td>0.00</td>\n",
              "      <td>train</td>\n",
              "      <td>0</td>\n",
              "    </tr>\n",
              "    <tr>\n",
              "      <th>13730</th>\n",
              "      <td>0.75</td>\n",
              "      <td>0.75</td>\n",
              "      <td>1.00</td>\n",
              "      <td>1.00</td>\n",
              "      <td>0.0</td>\n",
              "      <td>0.25</td>\n",
              "      <td>0.50</td>\n",
              "      <td>1.00</td>\n",
              "      <td>0.00</td>\n",
              "      <td>0.00</td>\n",
              "      <td>...</td>\n",
              "      <td>0.75</td>\n",
              "      <td>1.00</td>\n",
              "      <td>1.00</td>\n",
              "      <td>104</td>\n",
              "      <td>533</td>\n",
              "      <td>17</td>\n",
              "      <td>0.00</td>\n",
              "      <td>0.75</td>\n",
              "      <td>train</td>\n",
              "      <td>2</td>\n",
              "    </tr>\n",
              "    <tr>\n",
              "      <th>163974</th>\n",
              "      <td>0.50</td>\n",
              "      <td>0.25</td>\n",
              "      <td>0.25</td>\n",
              "      <td>0.50</td>\n",
              "      <td>0.0</td>\n",
              "      <td>0.50</td>\n",
              "      <td>0.75</td>\n",
              "      <td>0.25</td>\n",
              "      <td>0.75</td>\n",
              "      <td>0.50</td>\n",
              "      <td>...</td>\n",
              "      <td>0.25</td>\n",
              "      <td>1.00</td>\n",
              "      <td>0.75</td>\n",
              "      <td>115</td>\n",
              "      <td>425</td>\n",
              "      <td>8</td>\n",
              "      <td>0.25</td>\n",
              "      <td>0.25</td>\n",
              "      <td>train</td>\n",
              "      <td>1</td>\n",
              "    </tr>\n",
              "    <tr>\n",
              "      <th>106995</th>\n",
              "      <td>1.00</td>\n",
              "      <td>1.00</td>\n",
              "      <td>1.00</td>\n",
              "      <td>1.00</td>\n",
              "      <td>0.0</td>\n",
              "      <td>1.00</td>\n",
              "      <td>1.00</td>\n",
              "      <td>0.75</td>\n",
              "      <td>0.75</td>\n",
              "      <td>0.25</td>\n",
              "      <td>...</td>\n",
              "      <td>0.75</td>\n",
              "      <td>0.50</td>\n",
              "      <td>0.50</td>\n",
              "      <td>120</td>\n",
              "      <td>414</td>\n",
              "      <td>3</td>\n",
              "      <td>1.00</td>\n",
              "      <td>0.75</td>\n",
              "      <td>train</td>\n",
              "      <td>2</td>\n",
              "    </tr>\n",
              "    <tr>\n",
              "      <th>262207</th>\n",
              "      <td>1.00</td>\n",
              "      <td>1.00</td>\n",
              "      <td>1.00</td>\n",
              "      <td>1.00</td>\n",
              "      <td>0.0</td>\n",
              "      <td>1.00</td>\n",
              "      <td>1.00</td>\n",
              "      <td>0.75</td>\n",
              "      <td>0.75</td>\n",
              "      <td>0.25</td>\n",
              "      <td>...</td>\n",
              "      <td>0.50</td>\n",
              "      <td>0.50</td>\n",
              "      <td>0.50</td>\n",
              "      <td>126</td>\n",
              "      <td>389</td>\n",
              "      <td>3</td>\n",
              "      <td>1.00</td>\n",
              "      <td>0.75</td>\n",
              "      <td>train</td>\n",
              "      <td>2</td>\n",
              "    </tr>\n",
              "    <tr>\n",
              "      <th>...</th>\n",
              "      <td>...</td>\n",
              "      <td>...</td>\n",
              "      <td>...</td>\n",
              "      <td>...</td>\n",
              "      <td>...</td>\n",
              "      <td>...</td>\n",
              "      <td>...</td>\n",
              "      <td>...</td>\n",
              "      <td>...</td>\n",
              "      <td>...</td>\n",
              "      <td>...</td>\n",
              "      <td>...</td>\n",
              "      <td>...</td>\n",
              "      <td>...</td>\n",
              "      <td>...</td>\n",
              "      <td>...</td>\n",
              "      <td>...</td>\n",
              "      <td>...</td>\n",
              "      <td>...</td>\n",
              "      <td>...</td>\n",
              "      <td>...</td>\n",
              "    </tr>\n",
              "    <tr>\n",
              "      <th>209514</th>\n",
              "      <td>0.25</td>\n",
              "      <td>0.25</td>\n",
              "      <td>0.00</td>\n",
              "      <td>0.25</td>\n",
              "      <td>0.0</td>\n",
              "      <td>0.00</td>\n",
              "      <td>0.25</td>\n",
              "      <td>0.00</td>\n",
              "      <td>1.00</td>\n",
              "      <td>0.50</td>\n",
              "      <td>...</td>\n",
              "      <td>0.25</td>\n",
              "      <td>1.00</td>\n",
              "      <td>0.75</td>\n",
              "      <td>93</td>\n",
              "      <td>390</td>\n",
              "      <td>8</td>\n",
              "      <td>0.75</td>\n",
              "      <td>0.25</td>\n",
              "      <td>train</td>\n",
              "      <td>1</td>\n",
              "    </tr>\n",
              "    <tr>\n",
              "      <th>285409</th>\n",
              "      <td>0.75</td>\n",
              "      <td>0.75</td>\n",
              "      <td>0.75</td>\n",
              "      <td>0.75</td>\n",
              "      <td>0.0</td>\n",
              "      <td>0.50</td>\n",
              "      <td>0.25</td>\n",
              "      <td>1.00</td>\n",
              "      <td>0.75</td>\n",
              "      <td>0.50</td>\n",
              "      <td>...</td>\n",
              "      <td>0.00</td>\n",
              "      <td>0.00</td>\n",
              "      <td>0.50</td>\n",
              "      <td>136</td>\n",
              "      <td>397</td>\n",
              "      <td>17</td>\n",
              "      <td>0.00</td>\n",
              "      <td>0.00</td>\n",
              "      <td>train</td>\n",
              "      <td>0</td>\n",
              "    </tr>\n",
              "    <tr>\n",
              "      <th>67321</th>\n",
              "      <td>1.00</td>\n",
              "      <td>1.00</td>\n",
              "      <td>1.00</td>\n",
              "      <td>1.00</td>\n",
              "      <td>0.0</td>\n",
              "      <td>1.00</td>\n",
              "      <td>1.00</td>\n",
              "      <td>1.00</td>\n",
              "      <td>0.00</td>\n",
              "      <td>0.50</td>\n",
              "      <td>...</td>\n",
              "      <td>0.00</td>\n",
              "      <td>0.50</td>\n",
              "      <td>1.00</td>\n",
              "      <td>80</td>\n",
              "      <td>485</td>\n",
              "      <td>15</td>\n",
              "      <td>0.00</td>\n",
              "      <td>1.00</td>\n",
              "      <td>train</td>\n",
              "      <td>4</td>\n",
              "    </tr>\n",
              "    <tr>\n",
              "      <th>94374</th>\n",
              "      <td>0.25</td>\n",
              "      <td>0.25</td>\n",
              "      <td>0.50</td>\n",
              "      <td>0.50</td>\n",
              "      <td>0.0</td>\n",
              "      <td>0.00</td>\n",
              "      <td>0.00</td>\n",
              "      <td>0.50</td>\n",
              "      <td>0.00</td>\n",
              "      <td>0.00</td>\n",
              "      <td>...</td>\n",
              "      <td>1.00</td>\n",
              "      <td>1.00</td>\n",
              "      <td>1.00</td>\n",
              "      <td>92</td>\n",
              "      <td>479</td>\n",
              "      <td>14</td>\n",
              "      <td>1.00</td>\n",
              "      <td>1.00</td>\n",
              "      <td>train</td>\n",
              "      <td>4</td>\n",
              "    </tr>\n",
              "    <tr>\n",
              "      <th>223783</th>\n",
              "      <td>1.00</td>\n",
              "      <td>1.00</td>\n",
              "      <td>1.00</td>\n",
              "      <td>1.00</td>\n",
              "      <td>0.0</td>\n",
              "      <td>1.00</td>\n",
              "      <td>0.50</td>\n",
              "      <td>0.75</td>\n",
              "      <td>0.50</td>\n",
              "      <td>0.25</td>\n",
              "      <td>...</td>\n",
              "      <td>0.25</td>\n",
              "      <td>0.00</td>\n",
              "      <td>0.25</td>\n",
              "      <td>139</td>\n",
              "      <td>555</td>\n",
              "      <td>14</td>\n",
              "      <td>0.00</td>\n",
              "      <td>0.00</td>\n",
              "      <td>train</td>\n",
              "      <td>0</td>\n",
              "    </tr>\n",
              "  </tbody>\n",
              "</table>\n",
              "<p>312000 rows × 31 columns</p>\n",
              "</div>"
            ],
            "text/plain": [
              "        Open_n_val  High_n_val  Low_n_val  Close_n_val  Volume_n_val  \\\n",
              "141390        1.00        1.00       1.00         1.00           0.0   \n",
              "13730         0.75        0.75       1.00         1.00           0.0   \n",
              "163974        0.50        0.25       0.25         0.50           0.0   \n",
              "106995        1.00        1.00       1.00         1.00           0.0   \n",
              "262207        1.00        1.00       1.00         1.00           0.0   \n",
              "...            ...         ...        ...          ...           ...   \n",
              "209514        0.25        0.25       0.00         0.25           0.0   \n",
              "285409        0.75        0.75       0.75         0.75           0.0   \n",
              "67321         1.00        1.00       1.00         1.00           0.0   \n",
              "94374         0.25        0.25       0.50         0.50           0.0   \n",
              "223783        1.00        1.00       1.00         1.00           0.0   \n",
              "\n",
              "        SMA_10_val  SMA_20_val  CMO_14_val  High_n-Low_n_val  \\\n",
              "141390        1.00        1.00        1.00              0.00   \n",
              "13730         0.25        0.50        1.00              0.00   \n",
              "163974        0.50        0.75        0.25              0.75   \n",
              "106995        1.00        1.00        0.75              0.75   \n",
              "262207        1.00        1.00        0.75              0.75   \n",
              "...            ...         ...         ...               ...   \n",
              "209514        0.00        0.25        0.00              1.00   \n",
              "285409        0.50        0.25        1.00              0.75   \n",
              "67321         1.00        1.00        1.00              0.00   \n",
              "94374         0.00        0.00        0.50              0.00   \n",
              "223783        1.00        0.50        0.75              0.50   \n",
              "\n",
              "        Open_n-Close_n_val  ...  Close_n_slope_3_changelen_val  \\\n",
              "141390                0.50  ...                           1.00   \n",
              "13730                 0.00  ...                           0.75   \n",
              "163974                0.50  ...                           0.25   \n",
              "106995                0.25  ...                           0.75   \n",
              "262207                0.25  ...                           0.50   \n",
              "...                    ...  ...                            ...   \n",
              "209514                0.50  ...                           0.25   \n",
              "285409                0.50  ...                           0.00   \n",
              "67321                 0.50  ...                           0.00   \n",
              "94374                 0.00  ...                           1.00   \n",
              "223783                0.25  ...                           0.25   \n",
              "\n",
              "        Close_n_slope_5_changelen_val  Close_n_slope_10_changelen_val  \\\n",
              "141390                           0.75                            1.00   \n",
              "13730                            1.00                            1.00   \n",
              "163974                           1.00                            0.75   \n",
              "106995                           0.50                            0.50   \n",
              "262207                           0.50                            0.50   \n",
              "...                               ...                             ...   \n",
              "209514                           1.00                            0.75   \n",
              "285409                           0.00                            0.50   \n",
              "67321                            0.50                            1.00   \n",
              "94374                            1.00                            1.00   \n",
              "223783                           0.00                            0.25   \n",
              "\n",
              "        row_num  day  era  target_10_val  target_5_val  data_type  era_label  \n",
              "141390      121  438    7           0.00          0.00      train          0  \n",
              "13730       104  533   17           0.00          0.75      train          2  \n",
              "163974      115  425    8           0.25          0.25      train          1  \n",
              "106995      120  414    3           1.00          0.75      train          2  \n",
              "262207      126  389    3           1.00          0.75      train          2  \n",
              "...         ...  ...  ...            ...           ...        ...        ...  \n",
              "209514       93  390    8           0.75          0.25      train          1  \n",
              "285409      136  397   17           0.00          0.00      train          0  \n",
              "67321        80  485   15           0.00          1.00      train          4  \n",
              "94374        92  479   14           1.00          1.00      train          4  \n",
              "223783      139  555   14           0.00          0.00      train          0  \n",
              "\n",
              "[312000 rows x 31 columns]"
            ]
          },
          "execution_count": 26,
          "metadata": {},
          "output_type": "execute_result"
        }
      ],
      "source": [
        "df['era_label']=df['target_5_val'].apply(encode)\n",
        "df['era_label'].unique()\n",
        "df=df.sample(frac=1.0)\n",
        "df"
      ]
    },
    {
      "cell_type": "code",
      "execution_count": 27,
      "metadata": {
        "id": "CT82xPN_kZdl"
      },
      "outputs": [],
      "source": [
        "df_train=df.iloc[0:(len(df)*7)//10]\n",
        "df_test = df.iloc[(len(df)*7)//10:]"
      ]
    },
    {
      "cell_type": "code",
      "execution_count": 28,
      "metadata": {
        "id": "ICvdcpvokdcC"
      },
      "outputs": [],
      "source": [
        "x_train=df_train.iloc[:,0:-6].values\n",
        "y_train=df_train.iloc[:,-1].values\n",
        "x_test=df_test.iloc[:,0:-6].values\n",
        "y_test=df_test.iloc[:,-1].values"
      ]
    },
    {
      "cell_type": "code",
      "execution_count": 29,
      "metadata": {
        "colab": {
          "base_uri": "https://localhost:8080/"
        },
        "id": "9Tk87fB3t7Pn",
        "outputId": "3b10e0ef-16b1-42de-9d81-69938b8cb4c2"
      },
      "outputs": [
        {
          "data": {
            "text/plain": [
              "((218400, 25), (218400,), (93600, 25), (93600,))"
            ]
          },
          "execution_count": 29,
          "metadata": {},
          "output_type": "execute_result"
        }
      ],
      "source": [
        "x_train.shape, y_train.shape, x_test.shape, y_test.shape"
      ]
    },
    {
      "cell_type": "markdown",
      "metadata": {
        "id": "u59wCq-owrgB"
      },
      "source": [
        "### Training on noisy data"
      ]
    },
    {
      "cell_type": "code",
      "execution_count": 30,
      "metadata": {
        "id": "041le2LEkhcT"
      },
      "outputs": [],
      "source": [
        "ds_train=MyDS(x_train,y_train)"
      ]
    },
    {
      "cell_type": "code",
      "execution_count": 31,
      "metadata": {
        "colab": {
          "base_uri": "https://localhost:8080/"
        },
        "id": "_YUZutHSsIKF",
        "outputId": "8d058422-3d18-41ff-9914-919b355a5475"
      },
      "outputs": [
        {
          "name": "stdout",
          "output_type": "stream",
          "text": [
            "Epoch   9 Loss: 5.97398e-01 Accuracy: 0.77241 Epoch Time: 7.45057\n"
          ]
        }
      ],
      "source": [
        "net=MLP(dims=[25,64,32,12])\n",
        "dloader=torch.utils.data.DataLoader(dataset=ds_train,batch_size=32,shuffle=True)\n",
        "net,losses,accs=Train(net,dloader,epochs=10,verbose=True)"
      ]
    },
    {
      "cell_type": "code",
      "execution_count": 32,
      "metadata": {
        "id": "lWErRmvnseH9"
      },
      "outputs": [],
      "source": [
        "ds_test=MyDS(x_test,y_test)"
      ]
    },
    {
      "cell_type": "code",
      "execution_count": 33,
      "metadata": {
        "colab": {
          "base_uri": "https://localhost:8080/"
        },
        "id": "hjqXXrqFsfUp",
        "outputId": "26b00b66-bbd2-4c4e-ab50-2824686828f2"
      },
      "outputs": [
        {
          "name": "stdout",
          "output_type": "stream",
          "text": [
            "169186.0 218400\n"
          ]
        },
        {
          "data": {
            "text/plain": [
              "0.7746611721611721"
            ]
          },
          "execution_count": 33,
          "metadata": {},
          "output_type": "execute_result"
        }
      ],
      "source": [
        "accuracy(net,ds_train.samples,ds_train.labels)"
      ]
    },
    {
      "cell_type": "markdown",
      "metadata": {
        "id": "3Lvetd9NwwoU"
      },
      "source": [
        "### Removing noise using AdaBoost"
      ]
    },
    {
      "cell_type": "code",
      "execution_count": 34,
      "metadata": {
        "id": "zE-b1yAo2iXV"
      },
      "outputs": [],
      "source": [
        "original_df = df.copy()"
      ]
    },
    {
      "cell_type": "code",
      "execution_count": 35,
      "metadata": {
        "id": "NBdiDaDH3NMu"
      },
      "outputs": [],
      "source": [
        "X = df.iloc[:,0:-6].values\n",
        "y = df.iloc[:,-1].values"
      ]
    },
    {
      "cell_type": "code",
      "execution_count": 36,
      "metadata": {
        "id": "3HqG3Jyx3P0r"
      },
      "outputs": [],
      "source": [
        "del df"
      ]
    },
    {
      "cell_type": "code",
      "execution_count": 37,
      "metadata": {
        "id": "OG2sDPvltv1U"
      },
      "outputs": [
        {
          "name": "stderr",
          "output_type": "stream",
          "text": [
            "/Users/maksimchowdhary/Desktop/SubTab/venv/lib/python3.9/site-packages/sklearn/ensemble/_weight_boosting.py:519: FutureWarning: The SAMME.R algorithm (the default) is deprecated and will be removed in 1.6. Use the SAMME algorithm to circumvent this warning.\n",
            "  warnings.warn(\n"
          ]
        }
      ],
      "source": [
        "import numpy as np\n",
        "from sklearn.ensemble import AdaBoostClassifier\n",
        "from sklearn.tree import DecisionTreeClassifier\n",
        "ada = AdaBoostClassifier(DecisionTreeClassifier(max_depth=2), n_estimators=100)\n",
        "ada.fit(X, y)\n",
        "importances = ada.feature_importances_\n",
        "indices = np.argsort(importances)[::-1]\n",
        "n_top_features = int(0.8 * len(indices))\n",
        "top_feature_indices = indices[:n_top_features]"
      ]
    },
    {
      "cell_type": "code",
      "execution_count": 38,
      "metadata": {
        "id": "AH4RMBUU1z8O"
      },
      "outputs": [],
      "source": [
        "X_selected = X[:, top_feature_indices]\n",
        "X_selected_df = pd.DataFrame(X_selected)\n",
        "X_selected_df['target'] = y"
      ]
    },
    {
      "cell_type": "code",
      "execution_count": 39,
      "metadata": {
        "colab": {
          "base_uri": "https://localhost:8080/"
        },
        "id": "urYXVfKy0ftn",
        "outputId": "a5768876-950d-4edc-f087-49a53d4cdebb"
      },
      "outputs": [
        {
          "data": {
            "text/plain": [
              "(312000, 20)"
            ]
          },
          "execution_count": 39,
          "metadata": {},
          "output_type": "execute_result"
        }
      ],
      "source": [
        "X_selected.shape"
      ]
    },
    {
      "cell_type": "code",
      "execution_count": 40,
      "metadata": {
        "colab": {
          "base_uri": "https://localhost:8080/",
          "height": 411
        },
        "id": "0pjE9sVz2Yv9",
        "outputId": "42c0676b-3020-485d-cad7-6c7222ba7915"
      },
      "outputs": [
        {
          "data": {
            "text/html": [
              "<div>\n",
              "<style scoped>\n",
              "    .dataframe tbody tr th:only-of-type {\n",
              "        vertical-align: middle;\n",
              "    }\n",
              "\n",
              "    .dataframe tbody tr th {\n",
              "        vertical-align: top;\n",
              "    }\n",
              "\n",
              "    .dataframe thead th {\n",
              "        text-align: right;\n",
              "    }\n",
              "</style>\n",
              "<table border=\"1\" class=\"dataframe\">\n",
              "  <thead>\n",
              "    <tr style=\"text-align: right;\">\n",
              "      <th></th>\n",
              "      <th>0</th>\n",
              "      <th>1</th>\n",
              "      <th>2</th>\n",
              "      <th>3</th>\n",
              "      <th>4</th>\n",
              "      <th>5</th>\n",
              "      <th>6</th>\n",
              "      <th>7</th>\n",
              "      <th>8</th>\n",
              "      <th>9</th>\n",
              "      <th>...</th>\n",
              "      <th>11</th>\n",
              "      <th>12</th>\n",
              "      <th>13</th>\n",
              "      <th>14</th>\n",
              "      <th>15</th>\n",
              "      <th>16</th>\n",
              "      <th>17</th>\n",
              "      <th>18</th>\n",
              "      <th>19</th>\n",
              "      <th>target</th>\n",
              "    </tr>\n",
              "  </thead>\n",
              "  <tbody>\n",
              "    <tr>\n",
              "      <th>0</th>\n",
              "      <td>121.0</td>\n",
              "      <td>0.50</td>\n",
              "      <td>0.25</td>\n",
              "      <td>0.50</td>\n",
              "      <td>0.75</td>\n",
              "      <td>0.00</td>\n",
              "      <td>0.75</td>\n",
              "      <td>0.50</td>\n",
              "      <td>1.00</td>\n",
              "      <td>0.25</td>\n",
              "      <td>...</td>\n",
              "      <td>1.00</td>\n",
              "      <td>1.00</td>\n",
              "      <td>1.00</td>\n",
              "      <td>0.75</td>\n",
              "      <td>0.00</td>\n",
              "      <td>0.75</td>\n",
              "      <td>1.00</td>\n",
              "      <td>1.00</td>\n",
              "      <td>1.00</td>\n",
              "      <td>0</td>\n",
              "    </tr>\n",
              "    <tr>\n",
              "      <th>1</th>\n",
              "      <td>104.0</td>\n",
              "      <td>1.00</td>\n",
              "      <td>1.00</td>\n",
              "      <td>0.00</td>\n",
              "      <td>0.50</td>\n",
              "      <td>0.00</td>\n",
              "      <td>1.00</td>\n",
              "      <td>1.00</td>\n",
              "      <td>1.00</td>\n",
              "      <td>0.25</td>\n",
              "      <td>...</td>\n",
              "      <td>0.25</td>\n",
              "      <td>1.00</td>\n",
              "      <td>0.50</td>\n",
              "      <td>1.00</td>\n",
              "      <td>0.25</td>\n",
              "      <td>1.00</td>\n",
              "      <td>1.00</td>\n",
              "      <td>0.75</td>\n",
              "      <td>1.00</td>\n",
              "      <td>2</td>\n",
              "    </tr>\n",
              "    <tr>\n",
              "      <th>2</th>\n",
              "      <td>115.0</td>\n",
              "      <td>0.25</td>\n",
              "      <td>0.75</td>\n",
              "      <td>0.50</td>\n",
              "      <td>1.00</td>\n",
              "      <td>0.75</td>\n",
              "      <td>0.25</td>\n",
              "      <td>0.75</td>\n",
              "      <td>0.25</td>\n",
              "      <td>0.00</td>\n",
              "      <td>...</td>\n",
              "      <td>0.50</td>\n",
              "      <td>0.50</td>\n",
              "      <td>0.75</td>\n",
              "      <td>1.00</td>\n",
              "      <td>0.25</td>\n",
              "      <td>0.00</td>\n",
              "      <td>0.75</td>\n",
              "      <td>0.25</td>\n",
              "      <td>0.25</td>\n",
              "      <td>1</td>\n",
              "    </tr>\n",
              "    <tr>\n",
              "      <th>3</th>\n",
              "      <td>120.0</td>\n",
              "      <td>0.75</td>\n",
              "      <td>0.25</td>\n",
              "      <td>0.25</td>\n",
              "      <td>0.50</td>\n",
              "      <td>0.75</td>\n",
              "      <td>0.75</td>\n",
              "      <td>0.75</td>\n",
              "      <td>0.75</td>\n",
              "      <td>0.75</td>\n",
              "      <td>...</td>\n",
              "      <td>1.00</td>\n",
              "      <td>1.00</td>\n",
              "      <td>1.00</td>\n",
              "      <td>0.50</td>\n",
              "      <td>0.75</td>\n",
              "      <td>1.00</td>\n",
              "      <td>0.50</td>\n",
              "      <td>0.75</td>\n",
              "      <td>1.00</td>\n",
              "      <td>2</td>\n",
              "    </tr>\n",
              "    <tr>\n",
              "      <th>4</th>\n",
              "      <td>126.0</td>\n",
              "      <td>0.75</td>\n",
              "      <td>0.25</td>\n",
              "      <td>0.25</td>\n",
              "      <td>0.50</td>\n",
              "      <td>0.75</td>\n",
              "      <td>0.75</td>\n",
              "      <td>0.75</td>\n",
              "      <td>0.75</td>\n",
              "      <td>0.75</td>\n",
              "      <td>...</td>\n",
              "      <td>1.00</td>\n",
              "      <td>1.00</td>\n",
              "      <td>1.00</td>\n",
              "      <td>0.50</td>\n",
              "      <td>0.75</td>\n",
              "      <td>1.00</td>\n",
              "      <td>0.50</td>\n",
              "      <td>0.50</td>\n",
              "      <td>1.00</td>\n",
              "      <td>2</td>\n",
              "    </tr>\n",
              "    <tr>\n",
              "      <th>...</th>\n",
              "      <td>...</td>\n",
              "      <td>...</td>\n",
              "      <td>...</td>\n",
              "      <td>...</td>\n",
              "      <td>...</td>\n",
              "      <td>...</td>\n",
              "      <td>...</td>\n",
              "      <td>...</td>\n",
              "      <td>...</td>\n",
              "      <td>...</td>\n",
              "      <td>...</td>\n",
              "      <td>...</td>\n",
              "      <td>...</td>\n",
              "      <td>...</td>\n",
              "      <td>...</td>\n",
              "      <td>...</td>\n",
              "      <td>...</td>\n",
              "      <td>...</td>\n",
              "      <td>...</td>\n",
              "      <td>...</td>\n",
              "      <td>...</td>\n",
              "    </tr>\n",
              "    <tr>\n",
              "      <th>311995</th>\n",
              "      <td>93.0</td>\n",
              "      <td>0.50</td>\n",
              "      <td>0.75</td>\n",
              "      <td>0.50</td>\n",
              "      <td>0.25</td>\n",
              "      <td>1.00</td>\n",
              "      <td>0.50</td>\n",
              "      <td>0.50</td>\n",
              "      <td>0.00</td>\n",
              "      <td>0.50</td>\n",
              "      <td>...</td>\n",
              "      <td>0.00</td>\n",
              "      <td>0.25</td>\n",
              "      <td>0.25</td>\n",
              "      <td>1.00</td>\n",
              "      <td>0.25</td>\n",
              "      <td>1.00</td>\n",
              "      <td>0.75</td>\n",
              "      <td>0.25</td>\n",
              "      <td>0.00</td>\n",
              "      <td>1</td>\n",
              "    </tr>\n",
              "    <tr>\n",
              "      <th>311996</th>\n",
              "      <td>136.0</td>\n",
              "      <td>1.00</td>\n",
              "      <td>0.25</td>\n",
              "      <td>0.50</td>\n",
              "      <td>0.00</td>\n",
              "      <td>0.75</td>\n",
              "      <td>0.75</td>\n",
              "      <td>1.00</td>\n",
              "      <td>1.00</td>\n",
              "      <td>0.25</td>\n",
              "      <td>...</td>\n",
              "      <td>0.50</td>\n",
              "      <td>0.75</td>\n",
              "      <td>0.25</td>\n",
              "      <td>0.00</td>\n",
              "      <td>0.50</td>\n",
              "      <td>0.50</td>\n",
              "      <td>0.50</td>\n",
              "      <td>0.00</td>\n",
              "      <td>0.75</td>\n",
              "      <td>0</td>\n",
              "    </tr>\n",
              "    <tr>\n",
              "      <th>311997</th>\n",
              "      <td>80.0</td>\n",
              "      <td>0.75</td>\n",
              "      <td>1.00</td>\n",
              "      <td>0.50</td>\n",
              "      <td>0.50</td>\n",
              "      <td>0.00</td>\n",
              "      <td>1.00</td>\n",
              "      <td>1.00</td>\n",
              "      <td>1.00</td>\n",
              "      <td>0.50</td>\n",
              "      <td>...</td>\n",
              "      <td>1.00</td>\n",
              "      <td>1.00</td>\n",
              "      <td>1.00</td>\n",
              "      <td>0.50</td>\n",
              "      <td>0.25</td>\n",
              "      <td>1.00</td>\n",
              "      <td>1.00</td>\n",
              "      <td>0.00</td>\n",
              "      <td>1.00</td>\n",
              "      <td>4</td>\n",
              "    </tr>\n",
              "    <tr>\n",
              "      <th>311998</th>\n",
              "      <td>92.0</td>\n",
              "      <td>1.00</td>\n",
              "      <td>0.75</td>\n",
              "      <td>0.00</td>\n",
              "      <td>0.00</td>\n",
              "      <td>0.00</td>\n",
              "      <td>1.00</td>\n",
              "      <td>1.00</td>\n",
              "      <td>0.50</td>\n",
              "      <td>0.00</td>\n",
              "      <td>...</td>\n",
              "      <td>0.00</td>\n",
              "      <td>0.50</td>\n",
              "      <td>0.00</td>\n",
              "      <td>1.00</td>\n",
              "      <td>0.00</td>\n",
              "      <td>0.75</td>\n",
              "      <td>1.00</td>\n",
              "      <td>1.00</td>\n",
              "      <td>0.50</td>\n",
              "      <td>4</td>\n",
              "    </tr>\n",
              "    <tr>\n",
              "      <th>311999</th>\n",
              "      <td>139.0</td>\n",
              "      <td>1.00</td>\n",
              "      <td>0.00</td>\n",
              "      <td>0.25</td>\n",
              "      <td>0.00</td>\n",
              "      <td>0.50</td>\n",
              "      <td>1.00</td>\n",
              "      <td>1.00</td>\n",
              "      <td>0.75</td>\n",
              "      <td>1.00</td>\n",
              "      <td>...</td>\n",
              "      <td>1.00</td>\n",
              "      <td>1.00</td>\n",
              "      <td>0.50</td>\n",
              "      <td>0.00</td>\n",
              "      <td>1.00</td>\n",
              "      <td>0.75</td>\n",
              "      <td>0.25</td>\n",
              "      <td>0.25</td>\n",
              "      <td>1.00</td>\n",
              "      <td>0</td>\n",
              "    </tr>\n",
              "  </tbody>\n",
              "</table>\n",
              "<p>312000 rows × 21 columns</p>\n",
              "</div>"
            ],
            "text/plain": [
              "            0     1     2     3     4     5     6     7     8     9  ...  \\\n",
              "0       121.0  0.50  0.25  0.50  0.75  0.00  0.75  0.50  1.00  0.25  ...   \n",
              "1       104.0  1.00  1.00  0.00  0.50  0.00  1.00  1.00  1.00  0.25  ...   \n",
              "2       115.0  0.25  0.75  0.50  1.00  0.75  0.25  0.75  0.25  0.00  ...   \n",
              "3       120.0  0.75  0.25  0.25  0.50  0.75  0.75  0.75  0.75  0.75  ...   \n",
              "4       126.0  0.75  0.25  0.25  0.50  0.75  0.75  0.75  0.75  0.75  ...   \n",
              "...       ...   ...   ...   ...   ...   ...   ...   ...   ...   ...  ...   \n",
              "311995   93.0  0.50  0.75  0.50  0.25  1.00  0.50  0.50  0.00  0.50  ...   \n",
              "311996  136.0  1.00  0.25  0.50  0.00  0.75  0.75  1.00  1.00  0.25  ...   \n",
              "311997   80.0  0.75  1.00  0.50  0.50  0.00  1.00  1.00  1.00  0.50  ...   \n",
              "311998   92.0  1.00  0.75  0.00  0.00  0.00  1.00  1.00  0.50  0.00  ...   \n",
              "311999  139.0  1.00  0.00  0.25  0.00  0.50  1.00  1.00  0.75  1.00  ...   \n",
              "\n",
              "          11    12    13    14    15    16    17    18    19  target  \n",
              "0       1.00  1.00  1.00  0.75  0.00  0.75  1.00  1.00  1.00       0  \n",
              "1       0.25  1.00  0.50  1.00  0.25  1.00  1.00  0.75  1.00       2  \n",
              "2       0.50  0.50  0.75  1.00  0.25  0.00  0.75  0.25  0.25       1  \n",
              "3       1.00  1.00  1.00  0.50  0.75  1.00  0.50  0.75  1.00       2  \n",
              "4       1.00  1.00  1.00  0.50  0.75  1.00  0.50  0.50  1.00       2  \n",
              "...      ...   ...   ...   ...   ...   ...   ...   ...   ...     ...  \n",
              "311995  0.00  0.25  0.25  1.00  0.25  1.00  0.75  0.25  0.00       1  \n",
              "311996  0.50  0.75  0.25  0.00  0.50  0.50  0.50  0.00  0.75       0  \n",
              "311997  1.00  1.00  1.00  0.50  0.25  1.00  1.00  0.00  1.00       4  \n",
              "311998  0.00  0.50  0.00  1.00  0.00  0.75  1.00  1.00  0.50       4  \n",
              "311999  1.00  1.00  0.50  0.00  1.00  0.75  0.25  0.25  1.00       0  \n",
              "\n",
              "[312000 rows x 21 columns]"
            ]
          },
          "execution_count": 40,
          "metadata": {},
          "output_type": "execute_result"
        }
      ],
      "source": [
        "X_selected_df"
      ]
    },
    {
      "cell_type": "code",
      "execution_count": 41,
      "metadata": {
        "id": "GwU091nG2Ftd"
      },
      "outputs": [],
      "source": [
        "df_train=X_selected_df.iloc[0:(len(X)*7)//10]\n",
        "df_test = X_selected_df.iloc[(len(X)*7)//10:]\n",
        "x_train=df_train.iloc[:,:-1].values\n",
        "y_train=df_train.iloc[:,-1].values\n",
        "x_test=df_test.iloc[:,:-1].values\n",
        "y_test=df_test.iloc[:,-1].values"
      ]
    },
    {
      "cell_type": "code",
      "execution_count": 42,
      "metadata": {
        "colab": {
          "base_uri": "https://localhost:8080/",
          "height": 445
        },
        "id": "c7NzYnLo0Vzf",
        "outputId": "ad199180-d0ee-4b4e-bbc7-7a04d1e97423"
      },
      "outputs": [
        {
          "name": "stdout",
          "output_type": "stream",
          "text": [
            "Epoch   19 Loss: 5.80085e-01 Accuracy: 0.77691 Epoch Time: 5.62703\n"
          ]
        },
        {
          "data": {
            "image/png": "[encoded data removed]",
            "text/plain": [
              "<Figure size 640x480 with 1 Axes>"
            ]
          },
          "metadata": {},
          "output_type": "display_data"
        }
      ],
      "source": [
        "ds_train=MyDS(x_train,y_train)\n",
        "net=MLP(dims=[20,64,32,12])\n",
        "ds_test=MyDS(x_test,y_test)\n",
        "dloader=torch.utils.data.DataLoader(dataset=ds_train,batch_size=32,shuffle=True)\n",
        "net,losses,accs=Train(net,dloader,epochs=20,verbose=True,plot_accs=True,val_ds=ds_test)"
      ]
    },
    {
      "cell_type": "code",
      "execution_count": 43,
      "metadata": {
        "colab": {
          "base_uri": "https://localhost:8080/"
        },
        "id": "En4NIs3g0bJ8",
        "outputId": "570594c5-75d0-4ead-b16d-2d06122041b6"
      },
      "outputs": [
        {
          "name": "stdout",
          "output_type": "stream",
          "text": [
            "170324.0 218400\n"
          ]
        },
        {
          "data": {
            "text/plain": [
              "0.7798717948717949"
            ]
          },
          "execution_count": 43,
          "metadata": {},
          "output_type": "execute_result"
        }
      ],
      "source": [
        "ds_test=MyDS(x_test,y_test)\n",
        "accuracy(net,ds_train.samples,ds_train.labels)"
      ]
    },
    {
      "cell_type": "markdown",
      "metadata": {
        "id": "ZF-pJrT88p5R"
      },
      "source": [
        "### Using bagging"
      ]
    },
    {
      "cell_type": "code",
      "execution_count": 44,
      "metadata": {
        "id": "MRA6dg2t1STW"
      },
      "outputs": [],
      "source": [
        "from sklearn.ensemble import BaggingClassifier\n",
        "from sklearn.tree import DecisionTreeClassifier\n",
        "import numpy as np\n",
        "\n",
        "bagging_model = BaggingClassifier(DecisionTreeClassifier(), n_estimators=100, random_state=0)\n",
        "bagging_model.fit(X, y)\n",
        "importances = np.mean([tree.feature_importances_ for tree in bagging_model.estimators_], axis=0)\n",
        "indices = np.argsort(importances)[::-1]\n",
        "n_top_features = int(0.8 * len(indices))\n",
        "top_feature_indices = indices[:n_top_features]\n",
        "X_selected = X[:, top_feature_indices]"
      ]
    },
    {
      "cell_type": "code",
      "execution_count": 45,
      "metadata": {
        "id": "8KyyuXAbAwbq"
      },
      "outputs": [],
      "source": [
        "X_selected_df = pd.DataFrame(X_selected)\n",
        "X_selected_df['target'] = y"
      ]
    },
    {
      "cell_type": "code",
      "execution_count": 46,
      "metadata": {
        "id": "1xgef0OuC5vc"
      },
      "outputs": [],
      "source": [
        "df_train=X_selected_df.iloc[0:(len(X)*7)//10]\n",
        "df_test = X_selected_df.iloc[(len(X)*7)//10:]\n",
        "x_train=df_train.iloc[:,:-1].values\n",
        "y_train=df_train.iloc[:,-1].values\n",
        "x_test=df_test.iloc[:,:-1].values\n",
        "y_test=df_test.iloc[:,-1].values"
      ]
    },
    {
      "cell_type": "code",
      "execution_count": 47,
      "metadata": {
        "colab": {
          "base_uri": "https://localhost:8080/",
          "height": 445
        },
        "id": "1hudrUtZC_vV",
        "outputId": "d0ebda5e-63e6-4a26-ddd8-971f38a2d46f"
      },
      "outputs": [
        {
          "name": "stdout",
          "output_type": "stream",
          "text": [
            "Epoch   19 Loss: 6.07167e-01 Accuracy: 0.76768 Epoch Time: 6.35871\n"
          ]
        },
        {
          "data": {
            "image/png": "[encoded data removed]",
            "text/plain": [
              "<Figure size 640x480 with 1 Axes>"
            ]
          },
          "metadata": {},
          "output_type": "display_data"
        }
      ],
      "source": [
        "ds_train=MyDS(x_train,y_train)\n",
        "net=MLP(dims=[20,64,32,12])\n",
        "ds_test=MyDS(x_test,y_test)\n",
        "dloader=torch.utils.data.DataLoader(dataset=ds_train,batch_size=32,shuffle=True)\n",
        "net,losses,accs=Train(net,dloader,epochs=20,verbose=True,plot_accs=True,val_ds=ds_test)"
      ]
    },
    {
      "cell_type": "code",
      "execution_count": 48,
      "metadata": {
        "colab": {
          "base_uri": "https://localhost:8080/"
        },
        "id": "XbFCR_2QDBAF",
        "outputId": "92920a64-04d9-4576-d122-ec2a2196547a"
      },
      "outputs": [
        {
          "name": "stdout",
          "output_type": "stream",
          "text": [
            "164892.0 218400\n"
          ]
        },
        {
          "data": {
            "text/plain": [
              "0.755"
            ]
          },
          "execution_count": 48,
          "metadata": {},
          "output_type": "execute_result"
        }
      ],
      "source": [
        "ds_test=MyDS(x_test,y_test)\n",
        "accuracy(net,ds_train.samples,ds_train.labels)"
      ]
    },
    {
      "cell_type": "markdown",
      "metadata": {
        "id": "kpBp9JfCFU0u"
      },
      "source": [
        "### Bagging + multiple MLPs"
      ]
    },
    {
      "cell_type": "code",
      "execution_count": 49,
      "metadata": {
        "id": "T6VEoouoDC_U"
      },
      "outputs": [
        {
          "name": "stdout",
          "output_type": "stream",
          "text": [
            "Ensemble Accuracy: 0.7850213675213675\n"
          ]
        }
      ],
      "source": [
        "import torch\n",
        "from sklearn.metrics import accuracy_score\n",
        "import numpy as np\n",
        "n_mlps = 5\n",
        "mlps = []\n",
        "predictions = []\n",
        "for i in range(n_mlps):\n",
        "    mlp = MLP(dims=[20, 64, 32, 12])\n",
        "    mlp, _, _ = Train(mlp, dloader, epochs=20, verbose=False)\n",
        "    mlps.append(mlp)\n",
        "    y_pred = mlp(torch.tensor(x_test, dtype=torch.float)).detach().numpy()\n",
        "    predictions.append(y_pred)\n",
        "mean_predictions = np.mean(predictions, axis=0)\n",
        "final_predictions = np.argmax(mean_predictions, axis=1)\n",
        "ensemble_accuracy = accuracy_score(y_test, final_predictions)\n",
        "print(f\"Ensemble Accuracy: {ensemble_accuracy}\")"
      ]
    },
    {
      "cell_type": "markdown",
      "metadata": {
        "id": "U7IdAYYyGjM1"
      },
      "source": [
        "### SubTab implementation"
      ]
    },
    {
      "cell_type": "code",
      "execution_count": null,
      "metadata": {
        "id": "XrYR8dh8dH_g"
      },
      "outputs": [],
      "source": []
    }
  ],
  "metadata": {
    "accelerator": "TPU",
    "colab": {
      "provenance": []
    },
    "kernelspec": {
      "display_name": "Python 3",
      "name": "python3"
    },
    "language_info": {
      "codemirror_mode": {
        "name": "ipython",
        "version": 3
      },
      "file_extension": ".py",
      "mimetype": "text/x-python",
      "name": "python",
      "nbconvert_exporter": "python",
      "pygments_lexer": "ipython3",
      "version": "3.9.15"
    }
  },
  "nbformat": 4,
  "nbformat_minor": 0
}
