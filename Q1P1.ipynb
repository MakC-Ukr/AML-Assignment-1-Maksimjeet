{
  "cells": [
    {
      "cell_type": "markdown",
      "metadata": {
        "id": "71LJ9dfAriwg"
      },
      "source": [
        "### Imports"
      ]
    },
    {
      "cell_type": "code",
      "execution_count": 33,
      "metadata": {
        "id": "d6oBQLNVf83l"
      },
      "outputs": [],
      "source": [
        "import requests\n",
        "import pandas as pd\n",
        "import torch\n",
        "import torch\n",
        "import random\n",
        "import math, time, os\n",
        "import pandas as pd\n",
        "from matplotlib import pyplot as plt\n",
        "import numpy as np\n",
        "import numpy as np\n",
        "import torch\n",
        "from torch import nn\n",
        "from torch import optim\n",
        "from IPython import display\n",
        "import psutil, gc\n",
        "# utils.hide_toggle('Imports 2')\n",
        "from torch.utils.data import Dataset\n",
        "import sklearn.datasets as skds\n",
        "from sklearn.model_selection import train_test_split\n",
        "from torch.utils.data import DataLoader\n",
        "import math\n",
        "from numpy import sin, pi\n",
        "from matplotlib import pyplot as plt\n",
        "from torchvision.datasets import MNIST\n",
        "import pathlib\n",
        "from PIL import Image\n",
        "from PIL.ImageOps import invert\n",
        "from IPython import display\n",
        "from time import sleep\n",
        "import pickle\n",
        "from matplotlib import pyplot as plt"
      ]
    },
    {
      "cell_type": "code",
      "execution_count": 34,
      "metadata": {
        "id": "VBZXrspdrmwv"
      },
      "outputs": [],
      "source": [
        "def hide_toggle(x):\n",
        "    return\n",
        "class MyDS(Dataset):\n",
        "    def __init__(self, X,y,task='classification'):\n",
        "        self.samples = torch.Tensor(X)\n",
        "        if task=='classification': self.labels = torch.LongTensor(y)\n",
        "        elif task=='regression': self.labels = torch.Tensor(y)\n",
        "\n",
        "    def __len__(self):\n",
        "        return len(self.samples)\n",
        "\n",
        "    def __getitem__(self, idx):\n",
        "        return (self.samples[idx],self.labels[idx])\n",
        "#hide_toggle('Class MyDS')\n",
        "\n",
        "def euclideanDataset(n_samples=1000,n_classes=2,class_sep=2.0,n_features=5,batch_size=1,\n",
        "                     n_clusters_per_class=1):\n",
        "    X,y = skds.make_classification(n_samples=n_samples,n_classes=n_classes,\n",
        "                                   class_sep=class_sep,n_features=n_features,\n",
        "                                 n_informative=n_features,n_redundant=0,\n",
        "                                 n_repeated=0,n_clusters_per_class=n_clusters_per_class)\n",
        "    X_train,X_test,y_train,y_test = train_test_split(X,y)\n",
        "    ds = MyDS(X_train,y_train)\n",
        "    ds_hold = MyDS(X_test,y_test)\n",
        "    dsloader = torch.utils.data.DataLoader(dataset=ds,batch_size=batch_size,shuffle=True)\n",
        "    return ds,ds_hold,dsloader\n",
        "#hide_toggle('Function euclideanDataset')"
      ]
    },
    {
      "cell_type": "code",
      "execution_count": 35,
      "metadata": {
        "id": "FPzcc8a3r6UU"
      },
      "outputs": [],
      "source": [
        "import psutil\n",
        "def get_memory_usage():\n",
        "    mem = psutil.virtual_memory()\n",
        "    return f'{mem.used / 1024 ** 3} of {mem.total / 1024 ** 3}; {mem.available / 1024 ** 3} available'"
      ]
    },
    {
      "cell_type": "code",
      "execution_count": 36,
      "metadata": {
        "id": "dsqjeZ_2r7fT"
      },
      "outputs": [],
      "source": [
        "def accuracy(Net,X_test,y_test,verbose=True):\n",
        "    Net.eval()\n",
        "    m = X_test.shape[0]\n",
        "    y_pred = Net(X_test)\n",
        "    predicted = torch.max(y_pred, 1)[1]\n",
        "    correct = (predicted == y_test).float().sum().item()\n",
        "    if verbose: print(correct,m)\n",
        "    accuracy = correct/m\n",
        "    Net.train()\n",
        "    return accuracy\n",
        "def accuracy_variable(Net,data):\n",
        "    step=0\n",
        "    acc=0\n",
        "    for (X,y) in data:\n",
        "            y_pred = Net(X)\n",
        "            step+=1\n",
        "            acc+=accuracy(Net,X,y,verbose=False)\n",
        "    a = acc/step\n",
        "    return a\n",
        "def TrainVals(Net,X_vals,y_vals,epochs=20,lr=5e-2,Loss=nn.NLLLoss(),verbose=False,device='cpu',batch_size=32):\n",
        "    #optimizer = optim.Adam(Net.parameters(),lr=lr)\n",
        "    losses = []\n",
        "    accs = []\n",
        "    Net.to(device)\n",
        "    N=X_vals.shape[0]\n",
        "    n_batches=int(N/batch_size)\n",
        "    for e in range(epochs):\n",
        "        step=0\n",
        "        tot_loss=0.0\n",
        "        start_time = time.time()\n",
        "        acc=0.0\n",
        "        for idx in range(0,N,n_batches):\n",
        "            if idx+32>1000: start,end=idx,N\n",
        "            else: start,end=idx,idx+batch_size\n",
        "            X,y=torch.tensor(X_vals[start:end],dtype=torch.float32),torch.tensor(y_vals[start:end],dtype=torch.int64)\n",
        "            X=X.to(device)\n",
        "            y=y.to(device)\n",
        "            y_pred = Net(X)\n",
        "            loss = Loss(y_pred,y)\n",
        "            Net.optimizer.zero_grad()\n",
        "            loss.backward()\n",
        "            Net.optimizer.step()\n",
        "            step+=1\n",
        "            tot_loss+=loss\n",
        "            if verbose: acc+=accuracy(Net,X,y,verbose=False)\n",
        "        end_time = time.time()\n",
        "        t = end_time-start_time\n",
        "        l = tot_loss.item()/step\n",
        "        if verbose:\n",
        "            a = acc/step\n",
        "            accs += [a]\n",
        "        losses += [l]\n",
        "        if verbose:\n",
        "            print('Epoch  % 2d Loss: %2.5e Accuracy: %2.5f Epoch Time: %2.5f' %(e,l,a,t))\n",
        "            print(get_memory_usage())\n",
        "            gc.collect()\n",
        "            display.clear_output(wait=True)\n",
        "    return Net,losses,accs\n",
        "# utils.hide_toggle('Function Train')"
      ]
    },
    {
      "cell_type": "code",
      "execution_count": 37,
      "metadata": {
        "id": "KXw-qNfMsAdy"
      },
      "outputs": [],
      "source": [
        "class MLP(nn.Module):\n",
        "    def __init__(self,dims=[5,3,2],task='classification',lr=1e-3,weight_decay=0):\n",
        "        super(MLP,self).__init__()\n",
        "        self.dims=dims\n",
        "        self.n = len(self.dims)-1\n",
        "        self.task=task\n",
        "        self.layers=nn.ModuleList()\n",
        "        for i in range(self.n-1):\n",
        "            self.layers.append(nn.Linear(dims[i],dims[i+1]))\n",
        "            self.layers.append(nn.ReLU())\n",
        "        if task=='classification':\n",
        "            self.layers.append(nn.Linear(dims[i+1],dims[i+2]))\n",
        "            self.layers.append(nn.LogSoftmax(dim=1))\n",
        "        elif task=='regression':\n",
        "            self.layers.append(nn.Linear(dims[i+1],dims[i+2]))\n",
        "            self.layers.append(nn.Linear(dims[i+2],1))\n",
        "        else: self.layers.append(nn.Linear(dims[i+1],dims[i+2]))\n",
        "        self.optimizer = optim.Adam(self.parameters(),lr=lr,weight_decay=weight_decay)\n",
        "    def forward(self,x):\n",
        "        for l in self.layers:\n",
        "            x = l(x)\n",
        "        return(x)\n",
        "# utils.hide_toggle('Class MLP')"
      ]
    },
    {
      "cell_type": "code",
      "execution_count": 38,
      "metadata": {
        "id": "t6SpbeB_sFA9"
      },
      "outputs": [],
      "source": [
        "class SimpleRNN(nn.Module):\n",
        "    def __init__(self, input_size, hidden_size, output_size,lr):\n",
        "        # This just calls the base class constructor\n",
        "        super().__init__()\n",
        "        # Neural network layers assigned as attributes of a Module subclass\n",
        "        # have their parameters registered for training automatically.\n",
        "        self.input_size=input_size\n",
        "        self.rnn = torch.nn.RNN(input_size, hidden_size, nonlinearity='relu', batch_first=True)\n",
        "        self.linear = torch.nn.Linear(hidden_size, output_size)\n",
        "        self.logsoft = nn.LogSoftmax(dim=-1)\n",
        "        self.optimizer = optim.Adam(self.parameters(),lr=lr)\n",
        "    def forward(self, x):\n",
        "        # The RNN also returns its hidden state but we don't use it.\n",
        "        # While the RNN can also take a hidden state as input, the RNN\n",
        "        # gets passed a hidden state initialized with zeros by default.\n",
        "        if self.input_size==1: x=x.unsqueeze(-1)\n",
        "        h = self.rnn(x)[0]\n",
        "        x = self.linear(h)\n",
        "        x = self.logsoft(x)\n",
        "        x=x[:,-1,:]\n",
        "        return x"
      ]
    },
    {
      "cell_type": "code",
      "execution_count": 39,
      "metadata": {
        "id": "j74qp2ahtos4"
      },
      "outputs": [],
      "source": [
        "def Train(Net,data,epochs=20,lr=5e-2,Loss=nn.NLLLoss(),verbose=False,device='cpu',\n",
        "          val_ds=None,plot_accs=False,plot_losses=False):\n",
        "    #optimizer = optim.Adam(Net.parameters(),lr=lr)\n",
        "    losses = []\n",
        "    val_losses=[]\n",
        "    accs = []\n",
        "    val_accL=[]\n",
        "    Net.to(device)\n",
        "    for e in range(epochs):\n",
        "        step=0\n",
        "        tot_loss=0.0\n",
        "        start_time = time.time()\n",
        "        acc=0.0\n",
        "        for (X,y) in data:\n",
        "            X=X.to(device)\n",
        "            y=y.to(device)\n",
        "            y_pred = Net(X)\n",
        "            loss = Loss(y_pred,y)\n",
        "            Net.optimizer.zero_grad()\n",
        "            loss.backward()\n",
        "            Net.optimizer.step()\n",
        "            step+=1\n",
        "            tot_loss+=loss\n",
        "            if verbose: acc+=accuracy(Net,X,y,verbose=False)\n",
        "        end_time = time.time()\n",
        "        t = end_time-start_time\n",
        "        l = tot_loss.item()/step\n",
        "        if verbose:\n",
        "            a = acc/step\n",
        "            accs += [a]\n",
        "        losses += [l]\n",
        "        if verbose:\n",
        "            display.clear_output(wait=True)\n",
        "            print('Epoch  % 2d Loss: %2.5e Accuracy: %2.5f Epoch Time: %2.5f' %(e,l,a,t))\n",
        "        if plot_accs and val_ds is not None:\n",
        "            val_accL+=[accuracy(Net,val_ds.samples,val_ds.labels,verbose=False)]\n",
        "            plt.plot(np.array(val_accL),color='red')\n",
        "            plt.plot(np.array(accs),color='blue')\n",
        "            plt.show()\n",
        "        if plot_losses and val_ds is not None:\n",
        "            val_losses+=[Loss(Net(torch.tensor(val_ds.samples)),torch.tensor(val_ds.labels)).detach().numpy()]\n",
        "            plt.plot(val_losses,color='red')\n",
        "            plt.plot(losses,color='blue')\n",
        "            plt.show()\n",
        "    return Net,losses,accs"
      ]
    },
    {
      "cell_type": "markdown",
      "metadata": {
        "id": "3vbGI_hQrnSm"
      },
      "source": [
        "### Data imports and reads"
      ]
    },
    {
      "cell_type": "code",
      "execution_count": 40,
      "metadata": {
        "id": "TFLwudEitDmr"
      },
      "outputs": [],
      "source": [
        "df = pd.read_csv('df_synA_train_shuffled.csv',on_bad_lines='skip')\n",
        "df = df.dropna()"
      ]
    },
    {
      "cell_type": "code",
      "execution_count": 41,
      "metadata": {
        "colab": {
          "base_uri": "https://localhost:8080/"
        },
        "id": "1R6b3pCeg_7o",
        "outputId": "f503707e-5387-45e3-edd0-55f2f12dc31c"
      },
      "outputs": [
        {
          "data": {
            "text/plain": [
              "[16, 23, 8, 1, 14, 0, 3, 7, 22, 18, 17, 15]"
            ]
          },
          "execution_count": 41,
          "metadata": {},
          "output_type": "execute_result"
        }
      ],
      "source": [
        "class_values=list(df.era.unique())\n",
        "class_values"
      ]
    },
    {
      "cell_type": "code",
      "execution_count": 42,
      "metadata": {
        "id": "JA13vruaj48k"
      },
      "outputs": [],
      "source": [
        "def encode(v,class_values=class_values):\n",
        "    return class_values.index(v)"
      ]
    },
    {
      "cell_type": "code",
      "execution_count": 43,
      "metadata": {
        "colab": {
          "base_uri": "https://localhost:8080/",
          "height": 448
        },
        "id": "qTzyg4mqkV-n",
        "outputId": "444ff6f3-297c-499a-f868-b4bb5857676e"
      },
      "outputs": [
        {
          "data": {
            "text/html": [
              "<div>\n",
              "<style scoped>\n",
              "    .dataframe tbody tr th:only-of-type {\n",
              "        vertical-align: middle;\n",
              "    }\n",
              "\n",
              "    .dataframe tbody tr th {\n",
              "        vertical-align: top;\n",
              "    }\n",
              "\n",
              "    .dataframe thead th {\n",
              "        text-align: right;\n",
              "    }\n",
              "</style>\n",
              "<table border=\"1\" class=\"dataframe\">\n",
              "  <thead>\n",
              "    <tr style=\"text-align: right;\">\n",
              "      <th></th>\n",
              "      <th>Open_n_val</th>\n",
              "      <th>High_n_val</th>\n",
              "      <th>Low_n_val</th>\n",
              "      <th>Close_n_val</th>\n",
              "      <th>Volume_n_val</th>\n",
              "      <th>SMA_10_val</th>\n",
              "      <th>SMA_20_val</th>\n",
              "      <th>CMO_14_val</th>\n",
              "      <th>High_n-Low_n_val</th>\n",
              "      <th>Open_n-Close_n_val</th>\n",
              "      <th>...</th>\n",
              "      <th>Close_n_slope_3_changelen_val</th>\n",
              "      <th>Close_n_slope_5_changelen_val</th>\n",
              "      <th>Close_n_slope_10_changelen_val</th>\n",
              "      <th>row_num</th>\n",
              "      <th>day</th>\n",
              "      <th>era</th>\n",
              "      <th>target_10_val</th>\n",
              "      <th>target_5_val</th>\n",
              "      <th>data_type</th>\n",
              "      <th>era_label</th>\n",
              "    </tr>\n",
              "  </thead>\n",
              "  <tbody>\n",
              "    <tr>\n",
              "      <th>25855</th>\n",
              "      <td>0.25</td>\n",
              "      <td>0.25</td>\n",
              "      <td>0.25</td>\n",
              "      <td>0.25</td>\n",
              "      <td>0.0</td>\n",
              "      <td>0.25</td>\n",
              "      <td>0.50</td>\n",
              "      <td>0.00</td>\n",
              "      <td>0.75</td>\n",
              "      <td>0.75</td>\n",
              "      <td>...</td>\n",
              "      <td>0.75</td>\n",
              "      <td>0.75</td>\n",
              "      <td>0.50</td>\n",
              "      <td>98</td>\n",
              "      <td>470</td>\n",
              "      <td>22</td>\n",
              "      <td>0.25</td>\n",
              "      <td>0.25</td>\n",
              "      <td>train</td>\n",
              "      <td>8</td>\n",
              "    </tr>\n",
              "    <tr>\n",
              "      <th>83145</th>\n",
              "      <td>1.00</td>\n",
              "      <td>1.00</td>\n",
              "      <td>1.00</td>\n",
              "      <td>1.00</td>\n",
              "      <td>0.0</td>\n",
              "      <td>1.00</td>\n",
              "      <td>1.00</td>\n",
              "      <td>1.00</td>\n",
              "      <td>0.75</td>\n",
              "      <td>0.25</td>\n",
              "      <td>...</td>\n",
              "      <td>0.50</td>\n",
              "      <td>0.75</td>\n",
              "      <td>1.00</td>\n",
              "      <td>116</td>\n",
              "      <td>513</td>\n",
              "      <td>3</td>\n",
              "      <td>0.75</td>\n",
              "      <td>0.50</td>\n",
              "      <td>train</td>\n",
              "      <td>6</td>\n",
              "    </tr>\n",
              "    <tr>\n",
              "      <th>270443</th>\n",
              "      <td>0.25</td>\n",
              "      <td>0.25</td>\n",
              "      <td>0.25</td>\n",
              "      <td>0.25</td>\n",
              "      <td>0.0</td>\n",
              "      <td>0.50</td>\n",
              "      <td>0.50</td>\n",
              "      <td>0.25</td>\n",
              "      <td>0.50</td>\n",
              "      <td>0.00</td>\n",
              "      <td>...</td>\n",
              "      <td>0.50</td>\n",
              "      <td>1.00</td>\n",
              "      <td>0.75</td>\n",
              "      <td>136</td>\n",
              "      <td>544</td>\n",
              "      <td>16</td>\n",
              "      <td>1.00</td>\n",
              "      <td>0.75</td>\n",
              "      <td>train</td>\n",
              "      <td>0</td>\n",
              "    </tr>\n",
              "    <tr>\n",
              "      <th>87419</th>\n",
              "      <td>0.75</td>\n",
              "      <td>0.75</td>\n",
              "      <td>0.75</td>\n",
              "      <td>0.75</td>\n",
              "      <td>0.0</td>\n",
              "      <td>0.75</td>\n",
              "      <td>0.75</td>\n",
              "      <td>0.75</td>\n",
              "      <td>1.00</td>\n",
              "      <td>0.50</td>\n",
              "      <td>...</td>\n",
              "      <td>0.00</td>\n",
              "      <td>0.00</td>\n",
              "      <td>0.00</td>\n",
              "      <td>97</td>\n",
              "      <td>415</td>\n",
              "      <td>8</td>\n",
              "      <td>0.25</td>\n",
              "      <td>0.25</td>\n",
              "      <td>train</td>\n",
              "      <td>2</td>\n",
              "    </tr>\n",
              "    <tr>\n",
              "      <th>29070</th>\n",
              "      <td>1.00</td>\n",
              "      <td>1.00</td>\n",
              "      <td>1.00</td>\n",
              "      <td>1.00</td>\n",
              "      <td>0.0</td>\n",
              "      <td>1.00</td>\n",
              "      <td>1.00</td>\n",
              "      <td>0.50</td>\n",
              "      <td>1.00</td>\n",
              "      <td>0.25</td>\n",
              "      <td>...</td>\n",
              "      <td>0.25</td>\n",
              "      <td>0.25</td>\n",
              "      <td>0.50</td>\n",
              "      <td>123</td>\n",
              "      <td>494</td>\n",
              "      <td>7</td>\n",
              "      <td>0.00</td>\n",
              "      <td>0.00</td>\n",
              "      <td>train</td>\n",
              "      <td>7</td>\n",
              "    </tr>\n",
              "    <tr>\n",
              "      <th>...</th>\n",
              "      <td>...</td>\n",
              "      <td>...</td>\n",
              "      <td>...</td>\n",
              "      <td>...</td>\n",
              "      <td>...</td>\n",
              "      <td>...</td>\n",
              "      <td>...</td>\n",
              "      <td>...</td>\n",
              "      <td>...</td>\n",
              "      <td>...</td>\n",
              "      <td>...</td>\n",
              "      <td>...</td>\n",
              "      <td>...</td>\n",
              "      <td>...</td>\n",
              "      <td>...</td>\n",
              "      <td>...</td>\n",
              "      <td>...</td>\n",
              "      <td>...</td>\n",
              "      <td>...</td>\n",
              "      <td>...</td>\n",
              "      <td>...</td>\n",
              "    </tr>\n",
              "    <tr>\n",
              "      <th>151207</th>\n",
              "      <td>0.25</td>\n",
              "      <td>0.25</td>\n",
              "      <td>0.25</td>\n",
              "      <td>0.25</td>\n",
              "      <td>0.0</td>\n",
              "      <td>1.00</td>\n",
              "      <td>1.00</td>\n",
              "      <td>0.00</td>\n",
              "      <td>0.75</td>\n",
              "      <td>0.75</td>\n",
              "      <td>...</td>\n",
              "      <td>0.50</td>\n",
              "      <td>0.75</td>\n",
              "      <td>0.00</td>\n",
              "      <td>77</td>\n",
              "      <td>556</td>\n",
              "      <td>14</td>\n",
              "      <td>0.00</td>\n",
              "      <td>0.00</td>\n",
              "      <td>train</td>\n",
              "      <td>4</td>\n",
              "    </tr>\n",
              "    <tr>\n",
              "      <th>5982</th>\n",
              "      <td>0.25</td>\n",
              "      <td>0.25</td>\n",
              "      <td>0.25</td>\n",
              "      <td>0.25</td>\n",
              "      <td>0.0</td>\n",
              "      <td>0.25</td>\n",
              "      <td>0.50</td>\n",
              "      <td>0.00</td>\n",
              "      <td>0.50</td>\n",
              "      <td>0.75</td>\n",
              "      <td>...</td>\n",
              "      <td>1.00</td>\n",
              "      <td>1.00</td>\n",
              "      <td>0.75</td>\n",
              "      <td>122</td>\n",
              "      <td>505</td>\n",
              "      <td>8</td>\n",
              "      <td>0.25</td>\n",
              "      <td>0.25</td>\n",
              "      <td>train</td>\n",
              "      <td>2</td>\n",
              "    </tr>\n",
              "    <tr>\n",
              "      <th>125681</th>\n",
              "      <td>0.25</td>\n",
              "      <td>0.25</td>\n",
              "      <td>0.25</td>\n",
              "      <td>0.25</td>\n",
              "      <td>0.0</td>\n",
              "      <td>0.25</td>\n",
              "      <td>0.00</td>\n",
              "      <td>0.75</td>\n",
              "      <td>0.50</td>\n",
              "      <td>0.75</td>\n",
              "      <td>...</td>\n",
              "      <td>0.75</td>\n",
              "      <td>0.75</td>\n",
              "      <td>0.75</td>\n",
              "      <td>91</td>\n",
              "      <td>556</td>\n",
              "      <td>23</td>\n",
              "      <td>0.25</td>\n",
              "      <td>0.25</td>\n",
              "      <td>train</td>\n",
              "      <td>1</td>\n",
              "    </tr>\n",
              "    <tr>\n",
              "      <th>223057</th>\n",
              "      <td>0.50</td>\n",
              "      <td>0.50</td>\n",
              "      <td>0.50</td>\n",
              "      <td>0.50</td>\n",
              "      <td>0.0</td>\n",
              "      <td>0.50</td>\n",
              "      <td>0.50</td>\n",
              "      <td>0.75</td>\n",
              "      <td>0.00</td>\n",
              "      <td>0.25</td>\n",
              "      <td>...</td>\n",
              "      <td>0.75</td>\n",
              "      <td>1.00</td>\n",
              "      <td>0.75</td>\n",
              "      <td>104</td>\n",
              "      <td>417</td>\n",
              "      <td>0</td>\n",
              "      <td>0.25</td>\n",
              "      <td>0.25</td>\n",
              "      <td>train</td>\n",
              "      <td>5</td>\n",
              "    </tr>\n",
              "    <tr>\n",
              "      <th>74284</th>\n",
              "      <td>1.00</td>\n",
              "      <td>1.00</td>\n",
              "      <td>1.00</td>\n",
              "      <td>1.00</td>\n",
              "      <td>0.0</td>\n",
              "      <td>1.00</td>\n",
              "      <td>1.00</td>\n",
              "      <td>0.50</td>\n",
              "      <td>0.50</td>\n",
              "      <td>0.75</td>\n",
              "      <td>...</td>\n",
              "      <td>0.00</td>\n",
              "      <td>0.00</td>\n",
              "      <td>0.00</td>\n",
              "      <td>101</td>\n",
              "      <td>513</td>\n",
              "      <td>8</td>\n",
              "      <td>0.00</td>\n",
              "      <td>0.00</td>\n",
              "      <td>train</td>\n",
              "      <td>2</td>\n",
              "    </tr>\n",
              "  </tbody>\n",
              "</table>\n",
              "<p>312000 rows × 31 columns</p>\n",
              "</div>"
            ],
            "text/plain": [
              "        Open_n_val  High_n_val  Low_n_val  Close_n_val  Volume_n_val  \\\n",
              "25855         0.25        0.25       0.25         0.25           0.0   \n",
              "83145         1.00        1.00       1.00         1.00           0.0   \n",
              "270443        0.25        0.25       0.25         0.25           0.0   \n",
              "87419         0.75        0.75       0.75         0.75           0.0   \n",
              "29070         1.00        1.00       1.00         1.00           0.0   \n",
              "...            ...         ...        ...          ...           ...   \n",
              "151207        0.25        0.25       0.25         0.25           0.0   \n",
              "5982          0.25        0.25       0.25         0.25           0.0   \n",
              "125681        0.25        0.25       0.25         0.25           0.0   \n",
              "223057        0.50        0.50       0.50         0.50           0.0   \n",
              "74284         1.00        1.00       1.00         1.00           0.0   \n",
              "\n",
              "        SMA_10_val  SMA_20_val  CMO_14_val  High_n-Low_n_val  \\\n",
              "25855         0.25        0.50        0.00              0.75   \n",
              "83145         1.00        1.00        1.00              0.75   \n",
              "270443        0.50        0.50        0.25              0.50   \n",
              "87419         0.75        0.75        0.75              1.00   \n",
              "29070         1.00        1.00        0.50              1.00   \n",
              "...            ...         ...         ...               ...   \n",
              "151207        1.00        1.00        0.00              0.75   \n",
              "5982          0.25        0.50        0.00              0.50   \n",
              "125681        0.25        0.00        0.75              0.50   \n",
              "223057        0.50        0.50        0.75              0.00   \n",
              "74284         1.00        1.00        0.50              0.50   \n",
              "\n",
              "        Open_n-Close_n_val  ...  Close_n_slope_3_changelen_val  \\\n",
              "25855                 0.75  ...                           0.75   \n",
              "83145                 0.25  ...                           0.50   \n",
              "270443                0.00  ...                           0.50   \n",
              "87419                 0.50  ...                           0.00   \n",
              "29070                 0.25  ...                           0.25   \n",
              "...                    ...  ...                            ...   \n",
              "151207                0.75  ...                           0.50   \n",
              "5982                  0.75  ...                           1.00   \n",
              "125681                0.75  ...                           0.75   \n",
              "223057                0.25  ...                           0.75   \n",
              "74284                 0.75  ...                           0.00   \n",
              "\n",
              "        Close_n_slope_5_changelen_val  Close_n_slope_10_changelen_val  \\\n",
              "25855                            0.75                            0.50   \n",
              "83145                            0.75                            1.00   \n",
              "270443                           1.00                            0.75   \n",
              "87419                            0.00                            0.00   \n",
              "29070                            0.25                            0.50   \n",
              "...                               ...                             ...   \n",
              "151207                           0.75                            0.00   \n",
              "5982                             1.00                            0.75   \n",
              "125681                           0.75                            0.75   \n",
              "223057                           1.00                            0.75   \n",
              "74284                            0.00                            0.00   \n",
              "\n",
              "        row_num  day  era  target_10_val  target_5_val  data_type  era_label  \n",
              "25855        98  470   22           0.25          0.25      train          8  \n",
              "83145       116  513    3           0.75          0.50      train          6  \n",
              "270443      136  544   16           1.00          0.75      train          0  \n",
              "87419        97  415    8           0.25          0.25      train          2  \n",
              "29070       123  494    7           0.00          0.00      train          7  \n",
              "...         ...  ...  ...            ...           ...        ...        ...  \n",
              "151207       77  556   14           0.00          0.00      train          4  \n",
              "5982        122  505    8           0.25          0.25      train          2  \n",
              "125681       91  556   23           0.25          0.25      train          1  \n",
              "223057      104  417    0           0.25          0.25      train          5  \n",
              "74284       101  513    8           0.00          0.00      train          2  \n",
              "\n",
              "[312000 rows x 31 columns]"
            ]
          },
          "execution_count": 43,
          "metadata": {},
          "output_type": "execute_result"
        }
      ],
      "source": [
        "df['era_label']=df['era'].apply(encode)\n",
        "df['era_label'].unique()\n",
        "df=df.sample(frac=1.0)\n",
        "df"
      ]
    },
    {
      "cell_type": "code",
      "execution_count": 44,
      "metadata": {
        "id": "CT82xPN_kZdl"
      },
      "outputs": [],
      "source": [
        "df_train=df.iloc[0:(len(df)*7)//10]\n",
        "df_test = df.iloc[(len(df)*7)//10:]"
      ]
    },
    {
      "cell_type": "code",
      "execution_count": 45,
      "metadata": {
        "id": "ICvdcpvokdcC"
      },
      "outputs": [],
      "source": [
        "x_train=df_train.iloc[:,0:-6].values\n",
        "y_train=df_train.iloc[:,-1].values\n",
        "x_test=df_test.iloc[:,0:-6].values\n",
        "y_test=df_test.iloc[:,-1].values"
      ]
    },
    {
      "cell_type": "code",
      "execution_count": 46,
      "metadata": {
        "colab": {
          "base_uri": "https://localhost:8080/"
        },
        "id": "9Tk87fB3t7Pn",
        "outputId": "3b10e0ef-16b1-42de-9d81-69938b8cb4c2"
      },
      "outputs": [
        {
          "data": {
            "text/plain": [
              "((218400, 25), (218400,), (93600, 25), (93600,))"
            ]
          },
          "execution_count": 46,
          "metadata": {},
          "output_type": "execute_result"
        }
      ],
      "source": [
        "x_train.shape, y_train.shape, x_test.shape, y_test.shape"
      ]
    },
    {
      "cell_type": "markdown",
      "metadata": {
        "id": "u59wCq-owrgB"
      },
      "source": [
        "### Training on noisy data"
      ]
    },
    {
      "cell_type": "code",
      "execution_count": 47,
      "metadata": {
        "id": "041le2LEkhcT"
      },
      "outputs": [],
      "source": [
        "ds_train=MyDS(x_train,y_train)"
      ]
    },
    {
      "cell_type": "code",
      "execution_count": 48,
      "metadata": {
        "colab": {
          "base_uri": "https://localhost:8080/"
        },
        "id": "_YUZutHSsIKF",
        "outputId": "8d058422-3d18-41ff-9914-919b355a5475"
      },
      "outputs": [
        {
          "name": "stdout",
          "output_type": "stream",
          "text": [
            "Epoch   9 Loss: 7.53721e-01 Accuracy: 0.70645 Epoch Time: 4.62166\n"
          ]
        }
      ],
      "source": [
        "net=MLP(dims=[25,64,32,12])\n",
        "dloader=torch.utils.data.DataLoader(dataset=ds_train,batch_size=32,shuffle=True)\n",
        "net,losses,accs=Train(net,dloader,epochs=10,verbose=True)"
      ]
    },
    {
      "cell_type": "code",
      "execution_count": 49,
      "metadata": {
        "id": "lWErRmvnseH9"
      },
      "outputs": [],
      "source": [
        "ds_test=MyDS(x_test,y_test)"
      ]
    },
    {
      "cell_type": "code",
      "execution_count": 50,
      "metadata": {
        "colab": {
          "base_uri": "https://localhost:8080/"
        },
        "id": "hjqXXrqFsfUp",
        "outputId": "26b00b66-bbd2-4c4e-ab50-2824686828f2"
      },
      "outputs": [
        {
          "name": "stdout",
          "output_type": "stream",
          "text": [
            "154063.0 218400\n"
          ]
        },
        {
          "data": {
            "text/plain": [
              "0.7054166666666667"
            ]
          },
          "execution_count": 50,
          "metadata": {},
          "output_type": "execute_result"
        }
      ],
      "source": [
        "accuracy(net,ds_train.samples,ds_train.labels)"
      ]
    },
    {
      "cell_type": "markdown",
      "metadata": {
        "id": "3Lvetd9NwwoU"
      },
      "source": [
        "### Removing noise using AdaBoost"
      ]
    },
    {
      "cell_type": "code",
      "execution_count": 51,
      "metadata": {
        "id": "zE-b1yAo2iXV"
      },
      "outputs": [],
      "source": [
        "original_df = df.copy()"
      ]
    },
    {
      "cell_type": "code",
      "execution_count": 52,
      "metadata": {
        "id": "NBdiDaDH3NMu"
      },
      "outputs": [],
      "source": [
        "X = df.iloc[:,0:-6].values\n",
        "y = df.iloc[:,-1].values"
      ]
    },
    {
      "cell_type": "code",
      "execution_count": 53,
      "metadata": {
        "id": "3HqG3Jyx3P0r"
      },
      "outputs": [],
      "source": [
        "del df"
      ]
    },
    {
      "cell_type": "code",
      "execution_count": 54,
      "metadata": {
        "id": "OG2sDPvltv1U"
      },
      "outputs": [],
      "source": [
        "import numpy as np\n",
        "from sklearn.ensemble import AdaBoostClassifier\n",
        "from sklearn.tree import DecisionTreeClassifier\n",
        "ada = AdaBoostClassifier(DecisionTreeClassifier(max_depth=2), n_estimators=100)\n",
        "ada.fit(X, y)\n",
        "importances = ada.feature_importances_\n",
        "indices = np.argsort(importances)[::-1]\n",
        "n_top_features = int(0.8 * len(indices))\n",
        "top_feature_indices = indices[:n_top_features]"
      ]
    },
    {
      "cell_type": "code",
      "execution_count": 55,
      "metadata": {
        "id": "AH4RMBUU1z8O"
      },
      "outputs": [],
      "source": [
        "X_selected = X[:, top_feature_indices]\n",
        "X_selected_df = pd.DataFrame(X_selected)\n",
        "X_selected_df['target'] = y"
      ]
    },
    {
      "cell_type": "code",
      "execution_count": 56,
      "metadata": {
        "colab": {
          "base_uri": "https://localhost:8080/"
        },
        "id": "urYXVfKy0ftn",
        "outputId": "a5768876-950d-4edc-f087-49a53d4cdebb"
      },
      "outputs": [
        {
          "data": {
            "text/plain": [
              "(312000, 20)"
            ]
          },
          "execution_count": 56,
          "metadata": {},
          "output_type": "execute_result"
        }
      ],
      "source": [
        "X_selected.shape"
      ]
    },
    {
      "cell_type": "code",
      "execution_count": 57,
      "metadata": {
        "colab": {
          "base_uri": "https://localhost:8080/",
          "height": 411
        },
        "id": "0pjE9sVz2Yv9",
        "outputId": "42c0676b-3020-485d-cad7-6c7222ba7915"
      },
      "outputs": [
        {
          "data": {
            "text/html": [
              "<div>\n",
              "<style scoped>\n",
              "    .dataframe tbody tr th:only-of-type {\n",
              "        vertical-align: middle;\n",
              "    }\n",
              "\n",
              "    .dataframe tbody tr th {\n",
              "        vertical-align: top;\n",
              "    }\n",
              "\n",
              "    .dataframe thead th {\n",
              "        text-align: right;\n",
              "    }\n",
              "</style>\n",
              "<table border=\"1\" class=\"dataframe\">\n",
              "  <thead>\n",
              "    <tr style=\"text-align: right;\">\n",
              "      <th></th>\n",
              "      <th>0</th>\n",
              "      <th>1</th>\n",
              "      <th>2</th>\n",
              "      <th>3</th>\n",
              "      <th>4</th>\n",
              "      <th>5</th>\n",
              "      <th>6</th>\n",
              "      <th>7</th>\n",
              "      <th>8</th>\n",
              "      <th>9</th>\n",
              "      <th>...</th>\n",
              "      <th>11</th>\n",
              "      <th>12</th>\n",
              "      <th>13</th>\n",
              "      <th>14</th>\n",
              "      <th>15</th>\n",
              "      <th>16</th>\n",
              "      <th>17</th>\n",
              "      <th>18</th>\n",
              "      <th>19</th>\n",
              "      <th>target</th>\n",
              "    </tr>\n",
              "  </thead>\n",
              "  <tbody>\n",
              "    <tr>\n",
              "      <th>0</th>\n",
              "      <td>0.25</td>\n",
              "      <td>0.25</td>\n",
              "      <td>98.0</td>\n",
              "      <td>0.50</td>\n",
              "      <td>0.75</td>\n",
              "      <td>0.50</td>\n",
              "      <td>0.25</td>\n",
              "      <td>0.25</td>\n",
              "      <td>0.5</td>\n",
              "      <td>0.50</td>\n",
              "      <td>...</td>\n",
              "      <td>0.75</td>\n",
              "      <td>0.50</td>\n",
              "      <td>0.00</td>\n",
              "      <td>0.75</td>\n",
              "      <td>0.00</td>\n",
              "      <td>0.50</td>\n",
              "      <td>0.00</td>\n",
              "      <td>0.75</td>\n",
              "      <td>0.00</td>\n",
              "      <td>8</td>\n",
              "    </tr>\n",
              "    <tr>\n",
              "      <th>1</th>\n",
              "      <td>1.00</td>\n",
              "      <td>1.00</td>\n",
              "      <td>116.0</td>\n",
              "      <td>1.00</td>\n",
              "      <td>0.25</td>\n",
              "      <td>0.75</td>\n",
              "      <td>1.00</td>\n",
              "      <td>1.00</td>\n",
              "      <td>0.5</td>\n",
              "      <td>0.75</td>\n",
              "      <td>...</td>\n",
              "      <td>0.75</td>\n",
              "      <td>0.00</td>\n",
              "      <td>0.75</td>\n",
              "      <td>0.75</td>\n",
              "      <td>1.00</td>\n",
              "      <td>1.00</td>\n",
              "      <td>1.00</td>\n",
              "      <td>0.50</td>\n",
              "      <td>0.75</td>\n",
              "      <td>6</td>\n",
              "    </tr>\n",
              "    <tr>\n",
              "      <th>2</th>\n",
              "      <td>0.50</td>\n",
              "      <td>0.25</td>\n",
              "      <td>136.0</td>\n",
              "      <td>0.50</td>\n",
              "      <td>0.75</td>\n",
              "      <td>0.00</td>\n",
              "      <td>0.25</td>\n",
              "      <td>0.25</td>\n",
              "      <td>1.0</td>\n",
              "      <td>0.50</td>\n",
              "      <td>...</td>\n",
              "      <td>1.00</td>\n",
              "      <td>0.25</td>\n",
              "      <td>0.50</td>\n",
              "      <td>0.50</td>\n",
              "      <td>0.75</td>\n",
              "      <td>0.75</td>\n",
              "      <td>0.25</td>\n",
              "      <td>0.50</td>\n",
              "      <td>0.50</td>\n",
              "      <td>0</td>\n",
              "    </tr>\n",
              "    <tr>\n",
              "      <th>3</th>\n",
              "      <td>0.75</td>\n",
              "      <td>0.75</td>\n",
              "      <td>97.0</td>\n",
              "      <td>0.75</td>\n",
              "      <td>0.25</td>\n",
              "      <td>0.50</td>\n",
              "      <td>0.75</td>\n",
              "      <td>0.75</td>\n",
              "      <td>1.0</td>\n",
              "      <td>0.50</td>\n",
              "      <td>...</td>\n",
              "      <td>0.00</td>\n",
              "      <td>1.00</td>\n",
              "      <td>0.25</td>\n",
              "      <td>1.00</td>\n",
              "      <td>0.25</td>\n",
              "      <td>0.00</td>\n",
              "      <td>0.75</td>\n",
              "      <td>0.00</td>\n",
              "      <td>0.50</td>\n",
              "      <td>2</td>\n",
              "    </tr>\n",
              "    <tr>\n",
              "      <th>4</th>\n",
              "      <td>1.00</td>\n",
              "      <td>1.00</td>\n",
              "      <td>123.0</td>\n",
              "      <td>1.00</td>\n",
              "      <td>0.75</td>\n",
              "      <td>0.25</td>\n",
              "      <td>1.00</td>\n",
              "      <td>1.00</td>\n",
              "      <td>1.0</td>\n",
              "      <td>0.50</td>\n",
              "      <td>...</td>\n",
              "      <td>0.25</td>\n",
              "      <td>0.25</td>\n",
              "      <td>0.50</td>\n",
              "      <td>1.00</td>\n",
              "      <td>0.50</td>\n",
              "      <td>0.50</td>\n",
              "      <td>0.50</td>\n",
              "      <td>0.25</td>\n",
              "      <td>0.50</td>\n",
              "      <td>7</td>\n",
              "    </tr>\n",
              "    <tr>\n",
              "      <th>...</th>\n",
              "      <td>...</td>\n",
              "      <td>...</td>\n",
              "      <td>...</td>\n",
              "      <td>...</td>\n",
              "      <td>...</td>\n",
              "      <td>...</td>\n",
              "      <td>...</td>\n",
              "      <td>...</td>\n",
              "      <td>...</td>\n",
              "      <td>...</td>\n",
              "      <td>...</td>\n",
              "      <td>...</td>\n",
              "      <td>...</td>\n",
              "      <td>...</td>\n",
              "      <td>...</td>\n",
              "      <td>...</td>\n",
              "      <td>...</td>\n",
              "      <td>...</td>\n",
              "      <td>...</td>\n",
              "      <td>...</td>\n",
              "      <td>...</td>\n",
              "    </tr>\n",
              "    <tr>\n",
              "      <th>311995</th>\n",
              "      <td>1.00</td>\n",
              "      <td>0.25</td>\n",
              "      <td>77.0</td>\n",
              "      <td>1.00</td>\n",
              "      <td>1.00</td>\n",
              "      <td>0.00</td>\n",
              "      <td>0.25</td>\n",
              "      <td>0.25</td>\n",
              "      <td>1.0</td>\n",
              "      <td>0.00</td>\n",
              "      <td>...</td>\n",
              "      <td>0.75</td>\n",
              "      <td>0.50</td>\n",
              "      <td>0.00</td>\n",
              "      <td>0.75</td>\n",
              "      <td>0.00</td>\n",
              "      <td>0.00</td>\n",
              "      <td>0.00</td>\n",
              "      <td>0.50</td>\n",
              "      <td>0.00</td>\n",
              "      <td>4</td>\n",
              "    </tr>\n",
              "    <tr>\n",
              "      <th>311996</th>\n",
              "      <td>0.25</td>\n",
              "      <td>0.25</td>\n",
              "      <td>122.0</td>\n",
              "      <td>0.50</td>\n",
              "      <td>0.75</td>\n",
              "      <td>0.25</td>\n",
              "      <td>0.25</td>\n",
              "      <td>0.25</td>\n",
              "      <td>0.5</td>\n",
              "      <td>0.25</td>\n",
              "      <td>...</td>\n",
              "      <td>1.00</td>\n",
              "      <td>0.00</td>\n",
              "      <td>0.00</td>\n",
              "      <td>0.50</td>\n",
              "      <td>0.00</td>\n",
              "      <td>0.75</td>\n",
              "      <td>0.00</td>\n",
              "      <td>1.00</td>\n",
              "      <td>0.00</td>\n",
              "      <td>2</td>\n",
              "    </tr>\n",
              "    <tr>\n",
              "      <th>311997</th>\n",
              "      <td>0.25</td>\n",
              "      <td>0.25</td>\n",
              "      <td>91.0</td>\n",
              "      <td>0.00</td>\n",
              "      <td>0.00</td>\n",
              "      <td>0.25</td>\n",
              "      <td>0.25</td>\n",
              "      <td>0.25</td>\n",
              "      <td>1.0</td>\n",
              "      <td>0.25</td>\n",
              "      <td>...</td>\n",
              "      <td>0.75</td>\n",
              "      <td>0.50</td>\n",
              "      <td>0.25</td>\n",
              "      <td>0.50</td>\n",
              "      <td>0.25</td>\n",
              "      <td>0.75</td>\n",
              "      <td>0.75</td>\n",
              "      <td>0.75</td>\n",
              "      <td>0.25</td>\n",
              "      <td>1</td>\n",
              "    </tr>\n",
              "    <tr>\n",
              "      <th>311998</th>\n",
              "      <td>0.50</td>\n",
              "      <td>0.50</td>\n",
              "      <td>104.0</td>\n",
              "      <td>0.50</td>\n",
              "      <td>0.50</td>\n",
              "      <td>0.75</td>\n",
              "      <td>0.50</td>\n",
              "      <td>0.50</td>\n",
              "      <td>0.5</td>\n",
              "      <td>0.75</td>\n",
              "      <td>...</td>\n",
              "      <td>1.00</td>\n",
              "      <td>0.00</td>\n",
              "      <td>0.75</td>\n",
              "      <td>0.00</td>\n",
              "      <td>0.75</td>\n",
              "      <td>0.75</td>\n",
              "      <td>0.75</td>\n",
              "      <td>0.75</td>\n",
              "      <td>0.75</td>\n",
              "      <td>5</td>\n",
              "    </tr>\n",
              "    <tr>\n",
              "      <th>311999</th>\n",
              "      <td>1.00</td>\n",
              "      <td>1.00</td>\n",
              "      <td>101.0</td>\n",
              "      <td>1.00</td>\n",
              "      <td>0.25</td>\n",
              "      <td>0.25</td>\n",
              "      <td>1.00</td>\n",
              "      <td>1.00</td>\n",
              "      <td>1.0</td>\n",
              "      <td>0.25</td>\n",
              "      <td>...</td>\n",
              "      <td>0.00</td>\n",
              "      <td>1.00</td>\n",
              "      <td>0.25</td>\n",
              "      <td>0.50</td>\n",
              "      <td>0.25</td>\n",
              "      <td>0.00</td>\n",
              "      <td>0.50</td>\n",
              "      <td>0.00</td>\n",
              "      <td>0.25</td>\n",
              "      <td>2</td>\n",
              "    </tr>\n",
              "  </tbody>\n",
              "</table>\n",
              "<p>312000 rows × 21 columns</p>\n",
              "</div>"
            ],
            "text/plain": [
              "           0     1      2     3     4     5     6     7    8     9  ...    11  \\\n",
              "0       0.25  0.25   98.0  0.50  0.75  0.50  0.25  0.25  0.5  0.50  ...  0.75   \n",
              "1       1.00  1.00  116.0  1.00  0.25  0.75  1.00  1.00  0.5  0.75  ...  0.75   \n",
              "2       0.50  0.25  136.0  0.50  0.75  0.00  0.25  0.25  1.0  0.50  ...  1.00   \n",
              "3       0.75  0.75   97.0  0.75  0.25  0.50  0.75  0.75  1.0  0.50  ...  0.00   \n",
              "4       1.00  1.00  123.0  1.00  0.75  0.25  1.00  1.00  1.0  0.50  ...  0.25   \n",
              "...      ...   ...    ...   ...   ...   ...   ...   ...  ...   ...  ...   ...   \n",
              "311995  1.00  0.25   77.0  1.00  1.00  0.00  0.25  0.25  1.0  0.00  ...  0.75   \n",
              "311996  0.25  0.25  122.0  0.50  0.75  0.25  0.25  0.25  0.5  0.25  ...  1.00   \n",
              "311997  0.25  0.25   91.0  0.00  0.00  0.25  0.25  0.25  1.0  0.25  ...  0.75   \n",
              "311998  0.50  0.50  104.0  0.50  0.50  0.75  0.50  0.50  0.5  0.75  ...  1.00   \n",
              "311999  1.00  1.00  101.0  1.00  0.25  0.25  1.00  1.00  1.0  0.25  ...  0.00   \n",
              "\n",
              "          12    13    14    15    16    17    18    19  target  \n",
              "0       0.50  0.00  0.75  0.00  0.50  0.00  0.75  0.00       8  \n",
              "1       0.00  0.75  0.75  1.00  1.00  1.00  0.50  0.75       6  \n",
              "2       0.25  0.50  0.50  0.75  0.75  0.25  0.50  0.50       0  \n",
              "3       1.00  0.25  1.00  0.25  0.00  0.75  0.00  0.50       2  \n",
              "4       0.25  0.50  1.00  0.50  0.50  0.50  0.25  0.50       7  \n",
              "...      ...   ...   ...   ...   ...   ...   ...   ...     ...  \n",
              "311995  0.50  0.00  0.75  0.00  0.00  0.00  0.50  0.00       4  \n",
              "311996  0.00  0.00  0.50  0.00  0.75  0.00  1.00  0.00       2  \n",
              "311997  0.50  0.25  0.50  0.25  0.75  0.75  0.75  0.25       1  \n",
              "311998  0.00  0.75  0.00  0.75  0.75  0.75  0.75  0.75       5  \n",
              "311999  1.00  0.25  0.50  0.25  0.00  0.50  0.00  0.25       2  \n",
              "\n",
              "[312000 rows x 21 columns]"
            ]
          },
          "execution_count": 57,
          "metadata": {},
          "output_type": "execute_result"
        }
      ],
      "source": [
        "X_selected_df"
      ]
    },
    {
      "cell_type": "code",
      "execution_count": 58,
      "metadata": {
        "id": "GwU091nG2Ftd"
      },
      "outputs": [],
      "source": [
        "df_train=X_selected_df.iloc[0:(len(X)*7)//10]\n",
        "df_test = X_selected_df.iloc[(len(X)*7)//10:]\n",
        "x_train=df_train.iloc[:,:-1].values\n",
        "y_train=df_train.iloc[:,-1].values\n",
        "x_test=df_test.iloc[:,:-1].values\n",
        "y_test=df_test.iloc[:,-1].values"
      ]
    },
    {
      "cell_type": "code",
      "execution_count": 59,
      "metadata": {
        "colab": {
          "base_uri": "https://localhost:8080/",
          "height": 445
        },
        "id": "c7NzYnLo0Vzf",
        "outputId": "ad199180-d0ee-4b4e-bbc7-7a04d1e97423"
      },
      "outputs": [
        {
          "name": "stdout",
          "output_type": "stream",
          "text": [
            "Epoch   19 Loss: 7.10906e-01 Accuracy: 0.72327 Epoch Time: 4.01838\n"
          ]
        },
        {
          "data": {
            "image/png": "[encoded data removed]",
            "text/plain": [
              "<Figure size 640x480 with 1 Axes>"
            ]
          },
          "metadata": {},
          "output_type": "display_data"
        }
      ],
      "source": [
        "ds_train=MyDS(x_train,y_train)\n",
        "net=MLP(dims=[20,64,32,12])\n",
        "ds_test=MyDS(x_test,y_test)\n",
        "dloader=torch.utils.data.DataLoader(dataset=ds_train,batch_size=32,shuffle=True)\n",
        "net,losses,accs=Train(net,dloader,epochs=20,verbose=True,plot_accs=True,val_ds=ds_test)"
      ]
    },
    {
      "cell_type": "code",
      "execution_count": 60,
      "metadata": {
        "colab": {
          "base_uri": "https://localhost:8080/"
        },
        "id": "En4NIs3g0bJ8",
        "outputId": "570594c5-75d0-4ead-b16d-2d06122041b6"
      },
      "outputs": [
        {
          "name": "stdout",
          "output_type": "stream",
          "text": [
            "148748.0 218400\n"
          ]
        },
        {
          "data": {
            "text/plain": [
              "0.6810805860805861"
            ]
          },
          "execution_count": 60,
          "metadata": {},
          "output_type": "execute_result"
        }
      ],
      "source": [
        "ds_test=MyDS(x_test,y_test)\n",
        "accuracy(net,ds_train.samples,ds_train.labels)"
      ]
    },
    {
      "cell_type": "markdown",
      "metadata": {
        "id": "ZF-pJrT88p5R"
      },
      "source": [
        "### Using bagging"
      ]
    },
    {
      "cell_type": "code",
      "execution_count": null,
      "metadata": {
        "id": "MRA6dg2t1STW"
      },
      "outputs": [],
      "source": [
        "from sklearn.ensemble import BaggingClassifier\n",
        "from sklearn.tree import DecisionTreeClassifier\n",
        "import numpy as np\n",
        "\n",
        "bagging_model = BaggingClassifier(DecisionTreeClassifier(), n_estimators=100, random_state=0)\n",
        "bagging_model.fit(X, y)\n",
        "importances = np.mean([tree.feature_importances_ for tree in bagging_model.estimators_], axis=0)\n",
        "indices = np.argsort(importances)[::-1]\n",
        "n_top_features = int(0.8 * len(indices))\n",
        "top_feature_indices = indices[:n_top_features]\n",
        "X_selected = X[:, top_feature_indices]"
      ]
    },
    {
      "cell_type": "code",
      "execution_count": null,
      "metadata": {
        "id": "8KyyuXAbAwbq"
      },
      "outputs": [],
      "source": [
        "X_selected_df = pd.DataFrame(X_selected)\n",
        "X_selected_df['target'] = y"
      ]
    },
    {
      "cell_type": "code",
      "execution_count": null,
      "metadata": {
        "id": "1xgef0OuC5vc"
      },
      "outputs": [],
      "source": [
        "df_train=X_selected_df.iloc[0:(len(X)*7)//10]\n",
        "df_test = X_selected_df.iloc[(len(X)*7)//10:]\n",
        "x_train=df_train.iloc[:,:-1].values\n",
        "y_train=df_train.iloc[:,-1].values\n",
        "x_test=df_test.iloc[:,:-1].values\n",
        "y_test=df_test.iloc[:,-1].values"
      ]
    },
    {
      "cell_type": "code",
      "execution_count": null,
      "metadata": {
        "colab": {
          "base_uri": "https://localhost:8080/",
          "height": 445
        },
        "id": "1hudrUtZC_vV",
        "outputId": "d0ebda5e-63e6-4a26-ddd8-971f38a2d46f"
      },
      "outputs": [
        {
          "name": "stdout",
          "output_type": "stream",
          "text": [
            "Epoch   19 Loss: 6.66704e-01 Accuracy: 0.73935 Epoch Time: 19.30590\n"
          ]
        },
        {
          "data": {
            "image/png": "[encoded data removed]",
            "text/plain": [
              "<Figure size 640x480 with 1 Axes>"
            ]
          },
          "metadata": {},
          "output_type": "display_data"
        }
      ],
      "source": [
        "ds_train=MyDS(x_train,y_train)\n",
        "net=MLP(dims=[20,64,32,12])\n",
        "ds_test=MyDS(x_test,y_test)\n",
        "dloader=torch.utils.data.DataLoader(dataset=ds_train,batch_size=32,shuffle=True)\n",
        "net,losses,accs=Train(net,dloader,epochs=20,verbose=True,plot_accs=True,val_ds=ds_test)"
      ]
    },
    {
      "cell_type": "code",
      "execution_count": null,
      "metadata": {
        "colab": {
          "base_uri": "https://localhost:8080/"
        },
        "id": "XbFCR_2QDBAF",
        "outputId": "92920a64-04d9-4576-d122-ec2a2196547a"
      },
      "outputs": [
        {
          "name": "stdout",
          "output_type": "stream",
          "text": [
            "161744.0 218400\n"
          ]
        },
        {
          "data": {
            "text/plain": [
              "0.7405860805860806"
            ]
          },
          "execution_count": 187,
          "metadata": {},
          "output_type": "execute_result"
        }
      ],
      "source": [
        "ds_test=MyDS(x_test,y_test)\n",
        "accuracy(net,ds_train.samples,ds_train.labels)"
      ]
    },
    {
      "cell_type": "markdown",
      "metadata": {
        "id": "kpBp9JfCFU0u"
      },
      "source": [
        "### Bagging + multiple MLPs"
      ]
    },
    {
      "cell_type": "code",
      "execution_count": 32,
      "metadata": {
        "id": "T6VEoouoDC_U"
      },
      "outputs": [
        {
          "name": "stdout",
          "output_type": "stream",
          "text": [
            "Ensemble Accuracy: 0.7588461538461538\n"
          ]
        }
      ],
      "source": [
        "import torch\n",
        "from sklearn.metrics import accuracy_score\n",
        "import numpy as np\n",
        "n_mlps = 5\n",
        "mlps = []\n",
        "predictions = []\n",
        "for i in range(n_mlps):\n",
        "    mlp = MLP(dims=[20, 64, 32, 12])\n",
        "    mlp, _, _ = Train(mlp, dloader, epochs=20, verbose=False)\n",
        "    mlps.append(mlp)\n",
        "    y_pred = mlp(torch.tensor(x_test, dtype=torch.float)).detach().numpy()\n",
        "    predictions.append(y_pred)\n",
        "mean_predictions = np.mean(predictions, axis=0)\n",
        "final_predictions = np.argmax(mean_predictions, axis=1)\n",
        "ensemble_accuracy = accuracy_score(y_test, final_predictions)\n",
        "print(f\"Ensemble Accuracy: {ensemble_accuracy}\")"
      ]
    },
    {
      "cell_type": "markdown",
      "metadata": {
        "id": "U7IdAYYyGjM1"
      },
      "source": [
        "### SubTab implementation"
      ]
    },
    {
      "cell_type": "code",
      "execution_count": null,
      "metadata": {
        "id": "XrYR8dh8dH_g"
      },
      "outputs": [],
      "source": []
    }
  ],
  "metadata": {
    "accelerator": "TPU",
    "colab": {
      "provenance": []
    },
    "kernelspec": {
      "display_name": "Python 3",
      "name": "python3"
    },
    "language_info": {
      "codemirror_mode": {
        "name": "ipython",
        "version": 3
      },
      "file_extension": ".py",
      "mimetype": "text/x-python",
      "name": "python",
      "nbconvert_exporter": "python",
      "pygments_lexer": "ipython3",
      "version": "3.9.13"
    }
  },
  "nbformat": 4,
  "nbformat_minor": 0
}
